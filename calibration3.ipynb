{
 "cells": [
  {
   "cell_type": "code",
   "execution_count": 7,
   "id": "social-knitting",
   "metadata": {},
   "outputs": [],
   "source": [
    "from sklearn.calibration import CalibratedClassifierCV\n",
    "import matplotlib.pyplot as plt\n",
    "from sklearn.datasets import make_blobs\n",
    "from sklearn.ensemble import RandomForestClassifier\n",
    "from sklearn.metrics import log_loss\n",
    "import numpy as np"
   ]
  },
  {
   "cell_type": "code",
   "execution_count": 9,
   "id": "sexual-france",
   "metadata": {},
   "outputs": [],
   "source": [
    "np.random.seed(0)\n",
    "X, y = make_blobs(n_samples=1000, random_state=42, cluster_std=5.0)\n",
    "X_train, y_train = X[:600], y[:600]\n",
    "X_valid, y_valid = X[600:800], y[600:800]\n",
    "X_train_valid, y_train_valid = X[:800], y[:800]\n",
    "X_test, y_test = X[800:], y[800:]"
   ]
  },
  {
   "cell_type": "code",
   "execution_count": 12,
   "id": "constant-mother",
   "metadata": {},
   "outputs": [],
   "source": [
    "clf = RandomForestClassifier(n_estimators = 25)\n",
    "clf.fit(X_train_valid,y_train_valid)\n",
    "\n",
    "pred_prob = clf.predict_proba(X_test)\n",
    "score = log_loss(y_test,pred_prob)"
   ]
  },
  {
   "cell_type": "code",
   "execution_count": 13,
   "id": "declared-stockholm",
   "metadata": {},
   "outputs": [
    {
     "data": {
      "text/plain": [
       "1.4215378456196779"
      ]
     },
     "execution_count": 13,
     "metadata": {},
     "output_type": "execute_result"
    }
   ],
   "source": [
    "score"
   ]
  },
  {
   "cell_type": "code",
   "execution_count": 17,
   "id": "dried-lawsuit",
   "metadata": {},
   "outputs": [],
   "source": [
    "cclf = CalibratedClassifierCV(clf,cv = 'prefit',method = 'sigmoid')\n",
    "cclf.fit(X_valid,y_valid)\n",
    "cclf_prob = cclf.predict_proba(X_test)\n",
    "score2 = log_loss(y_test,cclf_prob)"
   ]
  },
  {
   "cell_type": "code",
   "execution_count": 19,
   "id": "intended-colon",
   "metadata": {},
   "outputs": [
    {
     "data": {
      "text/plain": [
       "0.6919519111058033"
      ]
     },
     "execution_count": 19,
     "metadata": {},
     "output_type": "execute_result"
    }
   ],
   "source": [
    "score2"
   ]
  },
  {
   "cell_type": "code",
   "execution_count": null,
   "id": "third-intervention",
   "metadata": {},
   "outputs": [],
   "source": []
  }
 ],
 "metadata": {
  "kernelspec": {
   "display_name": "Python 3",
   "language": "python",
   "name": "python3"
  },
  "language_info": {
   "codemirror_mode": {
    "name": "ipython",
    "version": 3
   },
   "file_extension": ".py",
   "mimetype": "text/x-python",
   "name": "python",
   "nbconvert_exporter": "python",
   "pygments_lexer": "ipython3",
   "version": "3.8.5"
  }
 },
 "nbformat": 4,
 "nbformat_minor": 5
}
