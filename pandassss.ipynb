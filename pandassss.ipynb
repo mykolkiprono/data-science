{
 "cells": [
  {
   "cell_type": "code",
   "execution_count": 84,
   "id": "ba5d9211",
   "metadata": {},
   "outputs": [],
   "source": [
    "import torch"
   ]
  },
  {
   "cell_type": "code",
   "execution_count": 5,
   "id": "88a0f10d",
   "metadata": {},
   "outputs": [],
   "source": [
    "# from annoy import AnnoyIndex\n",
    "import numpy as np\n",
    "import matplotlib.pyplot as plt"
   ]
  },
  {
   "cell_type": "code",
   "execution_count": 6,
   "id": "3dee0473",
   "metadata": {},
   "outputs": [],
   "source": [
    "x = np.arange(20)\n",
    "z = np.arange(20)\n",
    "y = np.arange(20)"
   ]
  },
  {
   "cell_type": "code",
   "execution_count": 14,
   "id": "4ad68f23",
   "metadata": {},
   "outputs": [],
   "source": [
    "# %matplotlib \n",
    "# fig = plt.figure()\n",
    "\n",
    "# ax = fig.add_subplot(projection = \"3d\")\n",
    "\n",
    "# ax.plot(x,y,z)\n",
    "# # plt.show()"
   ]
  },
  {
   "cell_type": "code",
   "execution_count": 15,
   "id": "339dc5bf",
   "metadata": {},
   "outputs": [],
   "source": [
    "import pandas as pd"
   ]
  },
  {
   "cell_type": "code",
   "execution_count": 25,
   "id": "44f492ca",
   "metadata": {},
   "outputs": [
    {
     "data": {
      "text/plain": [
       "['m', 'i', 'k', 'e']"
      ]
     },
     "execution_count": 25,
     "metadata": {},
     "output_type": "execute_result"
    }
   ],
   "source": [
    "columns = ['one','two','three']\n",
    "# print(columns)\n",
    "c = list(\"mike\")\n",
    "c"
   ]
  },
  {
   "cell_type": "code",
   "execution_count": 45,
   "id": "391dfe1f",
   "metadata": {},
   "outputs": [],
   "source": [
    "df = pd.DataFrame(np.random.randn(10,4),columns = ['one','two','three','four'])"
   ]
  },
  {
   "cell_type": "code",
   "execution_count": 46,
   "id": "94e0fd19",
   "metadata": {},
   "outputs": [
    {
     "data": {
      "text/html": [
       "<div>\n",
       "<style scoped>\n",
       "    .dataframe tbody tr th:only-of-type {\n",
       "        vertical-align: middle;\n",
       "    }\n",
       "\n",
       "    .dataframe tbody tr th {\n",
       "        vertical-align: top;\n",
       "    }\n",
       "\n",
       "    .dataframe thead th {\n",
       "        text-align: right;\n",
       "    }\n",
       "</style>\n",
       "<table border=\"1\" class=\"dataframe\">\n",
       "  <thead>\n",
       "    <tr style=\"text-align: right;\">\n",
       "      <th></th>\n",
       "      <th>one</th>\n",
       "      <th>two</th>\n",
       "      <th>three</th>\n",
       "      <th>four</th>\n",
       "    </tr>\n",
       "  </thead>\n",
       "  <tbody>\n",
       "    <tr>\n",
       "      <th>0</th>\n",
       "      <td>0.963618</td>\n",
       "      <td>-0.671287</td>\n",
       "      <td>-1.482716</td>\n",
       "      <td>-0.373524</td>\n",
       "    </tr>\n",
       "    <tr>\n",
       "      <th>1</th>\n",
       "      <td>0.744831</td>\n",
       "      <td>-1.447950</td>\n",
       "      <td>-0.978319</td>\n",
       "      <td>-0.758456</td>\n",
       "    </tr>\n",
       "    <tr>\n",
       "      <th>2</th>\n",
       "      <td>-0.118456</td>\n",
       "      <td>-0.139582</td>\n",
       "      <td>1.047767</td>\n",
       "      <td>0.617853</td>\n",
       "    </tr>\n",
       "    <tr>\n",
       "      <th>3</th>\n",
       "      <td>1.419265</td>\n",
       "      <td>-0.254698</td>\n",
       "      <td>-1.683950</td>\n",
       "      <td>0.379938</td>\n",
       "    </tr>\n",
       "    <tr>\n",
       "      <th>4</th>\n",
       "      <td>0.336643</td>\n",
       "      <td>-0.711584</td>\n",
       "      <td>-0.195520</td>\n",
       "      <td>0.067531</td>\n",
       "    </tr>\n",
       "    <tr>\n",
       "      <th>5</th>\n",
       "      <td>-0.164517</td>\n",
       "      <td>-0.080191</td>\n",
       "      <td>-1.923876</td>\n",
       "      <td>0.418021</td>\n",
       "    </tr>\n",
       "    <tr>\n",
       "      <th>6</th>\n",
       "      <td>-0.278895</td>\n",
       "      <td>-0.091543</td>\n",
       "      <td>0.264278</td>\n",
       "      <td>1.702819</td>\n",
       "    </tr>\n",
       "    <tr>\n",
       "      <th>7</th>\n",
       "      <td>-0.804648</td>\n",
       "      <td>-0.344587</td>\n",
       "      <td>-0.275232</td>\n",
       "      <td>0.801488</td>\n",
       "    </tr>\n",
       "    <tr>\n",
       "      <th>8</th>\n",
       "      <td>-0.565384</td>\n",
       "      <td>1.153492</td>\n",
       "      <td>-1.153563</td>\n",
       "      <td>0.270004</td>\n",
       "    </tr>\n",
       "    <tr>\n",
       "      <th>9</th>\n",
       "      <td>1.391183</td>\n",
       "      <td>0.050143</td>\n",
       "      <td>-0.444773</td>\n",
       "      <td>0.262807</td>\n",
       "    </tr>\n",
       "  </tbody>\n",
       "</table>\n",
       "</div>"
      ],
      "text/plain": [
       "        one       two     three      four\n",
       "0  0.963618 -0.671287 -1.482716 -0.373524\n",
       "1  0.744831 -1.447950 -0.978319 -0.758456\n",
       "2 -0.118456 -0.139582  1.047767  0.617853\n",
       "3  1.419265 -0.254698 -1.683950  0.379938\n",
       "4  0.336643 -0.711584 -0.195520  0.067531\n",
       "5 -0.164517 -0.080191 -1.923876  0.418021\n",
       "6 -0.278895 -0.091543  0.264278  1.702819\n",
       "7 -0.804648 -0.344587 -0.275232  0.801488\n",
       "8 -0.565384  1.153492 -1.153563  0.270004\n",
       "9  1.391183  0.050143 -0.444773  0.262807"
      ]
     },
     "execution_count": 46,
     "metadata": {},
     "output_type": "execute_result"
    }
   ],
   "source": [
    "df"
   ]
  },
  {
   "cell_type": "code",
   "execution_count": 42,
   "id": "6126a6f3",
   "metadata": {},
   "outputs": [],
   "source": [
    "df2 = pd.DataFrame(np.random.randn(10,2),columns = list(\"ab\"))"
   ]
  },
  {
   "cell_type": "code",
   "execution_count": 43,
   "id": "6499d5fd",
   "metadata": {},
   "outputs": [
    {
     "data": {
      "text/html": [
       "<div>\n",
       "<style scoped>\n",
       "    .dataframe tbody tr th:only-of-type {\n",
       "        vertical-align: middle;\n",
       "    }\n",
       "\n",
       "    .dataframe tbody tr th {\n",
       "        vertical-align: top;\n",
       "    }\n",
       "\n",
       "    .dataframe thead th {\n",
       "        text-align: right;\n",
       "    }\n",
       "</style>\n",
       "<table border=\"1\" class=\"dataframe\">\n",
       "  <thead>\n",
       "    <tr style=\"text-align: right;\">\n",
       "      <th></th>\n",
       "      <th>a</th>\n",
       "      <th>b</th>\n",
       "    </tr>\n",
       "  </thead>\n",
       "  <tbody>\n",
       "    <tr>\n",
       "      <th>0</th>\n",
       "      <td>-1.052051</td>\n",
       "      <td>-1.104235</td>\n",
       "    </tr>\n",
       "    <tr>\n",
       "      <th>1</th>\n",
       "      <td>-0.993212</td>\n",
       "      <td>0.883707</td>\n",
       "    </tr>\n",
       "    <tr>\n",
       "      <th>2</th>\n",
       "      <td>-0.713155</td>\n",
       "      <td>1.331890</td>\n",
       "    </tr>\n",
       "    <tr>\n",
       "      <th>3</th>\n",
       "      <td>0.819217</td>\n",
       "      <td>2.178463</td>\n",
       "    </tr>\n",
       "    <tr>\n",
       "      <th>4</th>\n",
       "      <td>-1.951374</td>\n",
       "      <td>0.763125</td>\n",
       "    </tr>\n",
       "  </tbody>\n",
       "</table>\n",
       "</div>"
      ],
      "text/plain": [
       "          a         b\n",
       "0 -1.052051 -1.104235\n",
       "1 -0.993212  0.883707\n",
       "2 -0.713155  1.331890\n",
       "3  0.819217  2.178463\n",
       "4 -1.951374  0.763125"
      ]
     },
     "execution_count": 43,
     "metadata": {},
     "output_type": "execute_result"
    }
   ],
   "source": [
    "df2.head()"
   ]
  },
  {
   "cell_type": "code",
   "execution_count": 44,
   "id": "64044797",
   "metadata": {},
   "outputs": [
    {
     "data": {
      "text/html": [
       "<div>\n",
       "<style scoped>\n",
       "    .dataframe tbody tr th:only-of-type {\n",
       "        vertical-align: middle;\n",
       "    }\n",
       "\n",
       "    .dataframe tbody tr th {\n",
       "        vertical-align: top;\n",
       "    }\n",
       "\n",
       "    .dataframe thead th {\n",
       "        text-align: right;\n",
       "    }\n",
       "</style>\n",
       "<table border=\"1\" class=\"dataframe\">\n",
       "  <thead>\n",
       "    <tr style=\"text-align: right;\">\n",
       "      <th></th>\n",
       "      <th>a</th>\n",
       "      <th>b</th>\n",
       "    </tr>\n",
       "  </thead>\n",
       "  <tbody>\n",
       "    <tr>\n",
       "      <th>0</th>\n",
       "      <td>-1.052051</td>\n",
       "      <td>-1.104235</td>\n",
       "    </tr>\n",
       "  </tbody>\n",
       "</table>\n",
       "</div>"
      ],
      "text/plain": [
       "          a         b\n",
       "0 -1.052051 -1.104235"
      ]
     },
     "execution_count": 44,
     "metadata": {},
     "output_type": "execute_result"
    }
   ],
   "source": [
    "df2[0:1]"
   ]
  },
  {
   "cell_type": "code",
   "execution_count": 48,
   "id": "3ebdc485",
   "metadata": {},
   "outputs": [],
   "source": [
    "pieces = [df,df2]"
   ]
  },
  {
   "cell_type": "code",
   "execution_count": 49,
   "id": "14ddbebd",
   "metadata": {},
   "outputs": [
    {
     "data": {
      "text/plain": [
       "list"
      ]
     },
     "execution_count": 49,
     "metadata": {},
     "output_type": "execute_result"
    }
   ],
   "source": [
    "type(pieces)"
   ]
  },
  {
   "cell_type": "code",
   "execution_count": 54,
   "id": "092bb7ae",
   "metadata": {},
   "outputs": [],
   "source": [
    "df3 = pd.concat(pieces,ignore_index = True)"
   ]
  },
  {
   "cell_type": "code",
   "execution_count": 55,
   "id": "79bf8d17",
   "metadata": {},
   "outputs": [
    {
     "data": {
      "text/html": [
       "<div>\n",
       "<style scoped>\n",
       "    .dataframe tbody tr th:only-of-type {\n",
       "        vertical-align: middle;\n",
       "    }\n",
       "\n",
       "    .dataframe tbody tr th {\n",
       "        vertical-align: top;\n",
       "    }\n",
       "\n",
       "    .dataframe thead th {\n",
       "        text-align: right;\n",
       "    }\n",
       "</style>\n",
       "<table border=\"1\" class=\"dataframe\">\n",
       "  <thead>\n",
       "    <tr style=\"text-align: right;\">\n",
       "      <th></th>\n",
       "      <th>one</th>\n",
       "      <th>two</th>\n",
       "      <th>three</th>\n",
       "      <th>four</th>\n",
       "      <th>a</th>\n",
       "      <th>b</th>\n",
       "    </tr>\n",
       "  </thead>\n",
       "  <tbody>\n",
       "    <tr>\n",
       "      <th>0</th>\n",
       "      <td>0.963618</td>\n",
       "      <td>-0.671287</td>\n",
       "      <td>-1.482716</td>\n",
       "      <td>-0.373524</td>\n",
       "      <td>NaN</td>\n",
       "      <td>NaN</td>\n",
       "    </tr>\n",
       "    <tr>\n",
       "      <th>1</th>\n",
       "      <td>0.744831</td>\n",
       "      <td>-1.447950</td>\n",
       "      <td>-0.978319</td>\n",
       "      <td>-0.758456</td>\n",
       "      <td>NaN</td>\n",
       "      <td>NaN</td>\n",
       "    </tr>\n",
       "    <tr>\n",
       "      <th>2</th>\n",
       "      <td>-0.118456</td>\n",
       "      <td>-0.139582</td>\n",
       "      <td>1.047767</td>\n",
       "      <td>0.617853</td>\n",
       "      <td>NaN</td>\n",
       "      <td>NaN</td>\n",
       "    </tr>\n",
       "    <tr>\n",
       "      <th>3</th>\n",
       "      <td>1.419265</td>\n",
       "      <td>-0.254698</td>\n",
       "      <td>-1.683950</td>\n",
       "      <td>0.379938</td>\n",
       "      <td>NaN</td>\n",
       "      <td>NaN</td>\n",
       "    </tr>\n",
       "    <tr>\n",
       "      <th>4</th>\n",
       "      <td>0.336643</td>\n",
       "      <td>-0.711584</td>\n",
       "      <td>-0.195520</td>\n",
       "      <td>0.067531</td>\n",
       "      <td>NaN</td>\n",
       "      <td>NaN</td>\n",
       "    </tr>\n",
       "    <tr>\n",
       "      <th>5</th>\n",
       "      <td>-0.164517</td>\n",
       "      <td>-0.080191</td>\n",
       "      <td>-1.923876</td>\n",
       "      <td>0.418021</td>\n",
       "      <td>NaN</td>\n",
       "      <td>NaN</td>\n",
       "    </tr>\n",
       "    <tr>\n",
       "      <th>6</th>\n",
       "      <td>-0.278895</td>\n",
       "      <td>-0.091543</td>\n",
       "      <td>0.264278</td>\n",
       "      <td>1.702819</td>\n",
       "      <td>NaN</td>\n",
       "      <td>NaN</td>\n",
       "    </tr>\n",
       "    <tr>\n",
       "      <th>7</th>\n",
       "      <td>-0.804648</td>\n",
       "      <td>-0.344587</td>\n",
       "      <td>-0.275232</td>\n",
       "      <td>0.801488</td>\n",
       "      <td>NaN</td>\n",
       "      <td>NaN</td>\n",
       "    </tr>\n",
       "    <tr>\n",
       "      <th>8</th>\n",
       "      <td>-0.565384</td>\n",
       "      <td>1.153492</td>\n",
       "      <td>-1.153563</td>\n",
       "      <td>0.270004</td>\n",
       "      <td>NaN</td>\n",
       "      <td>NaN</td>\n",
       "    </tr>\n",
       "    <tr>\n",
       "      <th>9</th>\n",
       "      <td>1.391183</td>\n",
       "      <td>0.050143</td>\n",
       "      <td>-0.444773</td>\n",
       "      <td>0.262807</td>\n",
       "      <td>NaN</td>\n",
       "      <td>NaN</td>\n",
       "    </tr>\n",
       "    <tr>\n",
       "      <th>10</th>\n",
       "      <td>NaN</td>\n",
       "      <td>NaN</td>\n",
       "      <td>NaN</td>\n",
       "      <td>NaN</td>\n",
       "      <td>-1.052051</td>\n",
       "      <td>-1.104235</td>\n",
       "    </tr>\n",
       "    <tr>\n",
       "      <th>11</th>\n",
       "      <td>NaN</td>\n",
       "      <td>NaN</td>\n",
       "      <td>NaN</td>\n",
       "      <td>NaN</td>\n",
       "      <td>-0.993212</td>\n",
       "      <td>0.883707</td>\n",
       "    </tr>\n",
       "    <tr>\n",
       "      <th>12</th>\n",
       "      <td>NaN</td>\n",
       "      <td>NaN</td>\n",
       "      <td>NaN</td>\n",
       "      <td>NaN</td>\n",
       "      <td>-0.713155</td>\n",
       "      <td>1.331890</td>\n",
       "    </tr>\n",
       "    <tr>\n",
       "      <th>13</th>\n",
       "      <td>NaN</td>\n",
       "      <td>NaN</td>\n",
       "      <td>NaN</td>\n",
       "      <td>NaN</td>\n",
       "      <td>0.819217</td>\n",
       "      <td>2.178463</td>\n",
       "    </tr>\n",
       "    <tr>\n",
       "      <th>14</th>\n",
       "      <td>NaN</td>\n",
       "      <td>NaN</td>\n",
       "      <td>NaN</td>\n",
       "      <td>NaN</td>\n",
       "      <td>-1.951374</td>\n",
       "      <td>0.763125</td>\n",
       "    </tr>\n",
       "    <tr>\n",
       "      <th>15</th>\n",
       "      <td>NaN</td>\n",
       "      <td>NaN</td>\n",
       "      <td>NaN</td>\n",
       "      <td>NaN</td>\n",
       "      <td>1.828199</td>\n",
       "      <td>-2.452717</td>\n",
       "    </tr>\n",
       "    <tr>\n",
       "      <th>16</th>\n",
       "      <td>NaN</td>\n",
       "      <td>NaN</td>\n",
       "      <td>NaN</td>\n",
       "      <td>NaN</td>\n",
       "      <td>-0.944376</td>\n",
       "      <td>0.560804</td>\n",
       "    </tr>\n",
       "    <tr>\n",
       "      <th>17</th>\n",
       "      <td>NaN</td>\n",
       "      <td>NaN</td>\n",
       "      <td>NaN</td>\n",
       "      <td>NaN</td>\n",
       "      <td>0.084206</td>\n",
       "      <td>-0.424064</td>\n",
       "    </tr>\n",
       "    <tr>\n",
       "      <th>18</th>\n",
       "      <td>NaN</td>\n",
       "      <td>NaN</td>\n",
       "      <td>NaN</td>\n",
       "      <td>NaN</td>\n",
       "      <td>0.825222</td>\n",
       "      <td>0.545104</td>\n",
       "    </tr>\n",
       "    <tr>\n",
       "      <th>19</th>\n",
       "      <td>NaN</td>\n",
       "      <td>NaN</td>\n",
       "      <td>NaN</td>\n",
       "      <td>NaN</td>\n",
       "      <td>-1.015236</td>\n",
       "      <td>1.092305</td>\n",
       "    </tr>\n",
       "  </tbody>\n",
       "</table>\n",
       "</div>"
      ],
      "text/plain": [
       "         one       two     three      four         a         b\n",
       "0   0.963618 -0.671287 -1.482716 -0.373524       NaN       NaN\n",
       "1   0.744831 -1.447950 -0.978319 -0.758456       NaN       NaN\n",
       "2  -0.118456 -0.139582  1.047767  0.617853       NaN       NaN\n",
       "3   1.419265 -0.254698 -1.683950  0.379938       NaN       NaN\n",
       "4   0.336643 -0.711584 -0.195520  0.067531       NaN       NaN\n",
       "5  -0.164517 -0.080191 -1.923876  0.418021       NaN       NaN\n",
       "6  -0.278895 -0.091543  0.264278  1.702819       NaN       NaN\n",
       "7  -0.804648 -0.344587 -0.275232  0.801488       NaN       NaN\n",
       "8  -0.565384  1.153492 -1.153563  0.270004       NaN       NaN\n",
       "9   1.391183  0.050143 -0.444773  0.262807       NaN       NaN\n",
       "10       NaN       NaN       NaN       NaN -1.052051 -1.104235\n",
       "11       NaN       NaN       NaN       NaN -0.993212  0.883707\n",
       "12       NaN       NaN       NaN       NaN -0.713155  1.331890\n",
       "13       NaN       NaN       NaN       NaN  0.819217  2.178463\n",
       "14       NaN       NaN       NaN       NaN -1.951374  0.763125\n",
       "15       NaN       NaN       NaN       NaN  1.828199 -2.452717\n",
       "16       NaN       NaN       NaN       NaN -0.944376  0.560804\n",
       "17       NaN       NaN       NaN       NaN  0.084206 -0.424064\n",
       "18       NaN       NaN       NaN       NaN  0.825222  0.545104\n",
       "19       NaN       NaN       NaN       NaN -1.015236  1.092305"
      ]
     },
     "execution_count": 55,
     "metadata": {},
     "output_type": "execute_result"
    }
   ],
   "source": [
    "df3"
   ]
  },
  {
   "cell_type": "code",
   "execution_count": 57,
   "id": "2cb8e9f1",
   "metadata": {},
   "outputs": [
    {
     "data": {
      "text/html": [
       "<div>\n",
       "<style scoped>\n",
       "    .dataframe tbody tr th:only-of-type {\n",
       "        vertical-align: middle;\n",
       "    }\n",
       "\n",
       "    .dataframe tbody tr th {\n",
       "        vertical-align: top;\n",
       "    }\n",
       "\n",
       "    .dataframe thead th {\n",
       "        text-align: right;\n",
       "    }\n",
       "</style>\n",
       "<table border=\"1\" class=\"dataframe\">\n",
       "  <thead>\n",
       "    <tr style=\"text-align: right;\">\n",
       "      <th></th>\n",
       "      <th>one</th>\n",
       "      <th>two</th>\n",
       "      <th>three</th>\n",
       "      <th>four</th>\n",
       "    </tr>\n",
       "  </thead>\n",
       "  <tbody>\n",
       "    <tr>\n",
       "      <th>0</th>\n",
       "      <td>0.963618</td>\n",
       "      <td>-0.671287</td>\n",
       "      <td>-1.482716</td>\n",
       "      <td>-0.373524</td>\n",
       "    </tr>\n",
       "    <tr>\n",
       "      <th>1</th>\n",
       "      <td>0.744831</td>\n",
       "      <td>-1.447950</td>\n",
       "      <td>-0.978319</td>\n",
       "      <td>-0.758456</td>\n",
       "    </tr>\n",
       "    <tr>\n",
       "      <th>2</th>\n",
       "      <td>-0.118456</td>\n",
       "      <td>-0.139582</td>\n",
       "      <td>1.047767</td>\n",
       "      <td>0.617853</td>\n",
       "    </tr>\n",
       "    <tr>\n",
       "      <th>3</th>\n",
       "      <td>1.419265</td>\n",
       "      <td>-0.254698</td>\n",
       "      <td>-1.683950</td>\n",
       "      <td>0.379938</td>\n",
       "    </tr>\n",
       "    <tr>\n",
       "      <th>4</th>\n",
       "      <td>0.336643</td>\n",
       "      <td>-0.711584</td>\n",
       "      <td>-0.195520</td>\n",
       "      <td>0.067531</td>\n",
       "    </tr>\n",
       "  </tbody>\n",
       "</table>\n",
       "</div>"
      ],
      "text/plain": [
       "        one       two     three      four\n",
       "0  0.963618 -0.671287 -1.482716 -0.373524\n",
       "1  0.744831 -1.447950 -0.978319 -0.758456\n",
       "2 -0.118456 -0.139582  1.047767  0.617853\n",
       "3  1.419265 -0.254698 -1.683950  0.379938\n",
       "4  0.336643 -0.711584 -0.195520  0.067531"
      ]
     },
     "execution_count": 57,
     "metadata": {},
     "output_type": "execute_result"
    }
   ],
   "source": [
    "df.head()"
   ]
  },
  {
   "cell_type": "code",
   "execution_count": 58,
   "id": "6aff8a3c",
   "metadata": {},
   "outputs": [
    {
     "data": {
      "text/html": [
       "<div>\n",
       "<style scoped>\n",
       "    .dataframe tbody tr th:only-of-type {\n",
       "        vertical-align: middle;\n",
       "    }\n",
       "\n",
       "    .dataframe tbody tr th {\n",
       "        vertical-align: top;\n",
       "    }\n",
       "\n",
       "    .dataframe thead th {\n",
       "        text-align: right;\n",
       "    }\n",
       "</style>\n",
       "<table border=\"1\" class=\"dataframe\">\n",
       "  <thead>\n",
       "    <tr style=\"text-align: right;\">\n",
       "      <th></th>\n",
       "      <th>one</th>\n",
       "      <th>two</th>\n",
       "      <th>three</th>\n",
       "      <th>four</th>\n",
       "    </tr>\n",
       "  </thead>\n",
       "  <tbody>\n",
       "    <tr>\n",
       "      <th>5</th>\n",
       "      <td>-0.164517</td>\n",
       "      <td>-0.080191</td>\n",
       "      <td>-1.923876</td>\n",
       "      <td>0.418021</td>\n",
       "    </tr>\n",
       "    <tr>\n",
       "      <th>6</th>\n",
       "      <td>-0.278895</td>\n",
       "      <td>-0.091543</td>\n",
       "      <td>0.264278</td>\n",
       "      <td>1.702819</td>\n",
       "    </tr>\n",
       "    <tr>\n",
       "      <th>7</th>\n",
       "      <td>-0.804648</td>\n",
       "      <td>-0.344587</td>\n",
       "      <td>-0.275232</td>\n",
       "      <td>0.801488</td>\n",
       "    </tr>\n",
       "    <tr>\n",
       "      <th>8</th>\n",
       "      <td>-0.565384</td>\n",
       "      <td>1.153492</td>\n",
       "      <td>-1.153563</td>\n",
       "      <td>0.270004</td>\n",
       "    </tr>\n",
       "    <tr>\n",
       "      <th>9</th>\n",
       "      <td>1.391183</td>\n",
       "      <td>0.050143</td>\n",
       "      <td>-0.444773</td>\n",
       "      <td>0.262807</td>\n",
       "    </tr>\n",
       "  </tbody>\n",
       "</table>\n",
       "</div>"
      ],
      "text/plain": [
       "        one       two     three      four\n",
       "5 -0.164517 -0.080191 -1.923876  0.418021\n",
       "6 -0.278895 -0.091543  0.264278  1.702819\n",
       "7 -0.804648 -0.344587 -0.275232  0.801488\n",
       "8 -0.565384  1.153492 -1.153563  0.270004\n",
       "9  1.391183  0.050143 -0.444773  0.262807"
      ]
     },
     "execution_count": 58,
     "metadata": {},
     "output_type": "execute_result"
    }
   ],
   "source": [
    "df.tail()"
   ]
  },
  {
   "cell_type": "code",
   "execution_count": 63,
   "id": "88a82fb9",
   "metadata": {},
   "outputs": [
    {
     "ename": "SyntaxError",
     "evalue": "invalid syntax (<ipython-input-63-1c4c41892213>, line 2)",
     "output_type": "error",
     "traceback": [
      "\u001b[1;36m  File \u001b[1;32m\"<ipython-input-63-1c4c41892213>\"\u001b[1;36m, line \u001b[1;32m2\u001b[0m\n\u001b[1;33m    'two', 'two', 'one', 'three'], 'C': np.random.randn(8),\u001b[0m\n\u001b[1;37m                                 ^\u001b[0m\n\u001b[1;31mSyntaxError\u001b[0m\u001b[1;31m:\u001b[0m invalid syntax\n"
     ]
    }
   ],
   "source": [
    "df = pd.DataFrame({'A': ['foo', 'bar', 'foo', 'bar', 'foo', 'bar', 'foo', 'foo'],'B'['one', 'one', 'two', 'three',\n",
    " 'two', 'two', 'one', 'three'], 'C': np.random.randn(8),\n",
    " 'D': np.random.randn(8)})"
   ]
  },
  {
   "cell_type": "code",
   "execution_count": 64,
   "id": "fbcf0117",
   "metadata": {},
   "outputs": [],
   "source": [
    "df2 = pd.DataFrame({'X': ['B', 'B', 'A', 'A'], 'Y': [1, 2, 3, 4]})"
   ]
  },
  {
   "cell_type": "code",
   "execution_count": 65,
   "id": "fa996c9f",
   "metadata": {},
   "outputs": [
    {
     "data": {
      "text/html": [
       "<div>\n",
       "<style scoped>\n",
       "    .dataframe tbody tr th:only-of-type {\n",
       "        vertical-align: middle;\n",
       "    }\n",
       "\n",
       "    .dataframe tbody tr th {\n",
       "        vertical-align: top;\n",
       "    }\n",
       "\n",
       "    .dataframe thead th {\n",
       "        text-align: right;\n",
       "    }\n",
       "</style>\n",
       "<table border=\"1\" class=\"dataframe\">\n",
       "  <thead>\n",
       "    <tr style=\"text-align: right;\">\n",
       "      <th></th>\n",
       "      <th>X</th>\n",
       "      <th>Y</th>\n",
       "    </tr>\n",
       "  </thead>\n",
       "  <tbody>\n",
       "    <tr>\n",
       "      <th>0</th>\n",
       "      <td>B</td>\n",
       "      <td>1</td>\n",
       "    </tr>\n",
       "    <tr>\n",
       "      <th>1</th>\n",
       "      <td>B</td>\n",
       "      <td>2</td>\n",
       "    </tr>\n",
       "    <tr>\n",
       "      <th>2</th>\n",
       "      <td>A</td>\n",
       "      <td>3</td>\n",
       "    </tr>\n",
       "    <tr>\n",
       "      <th>3</th>\n",
       "      <td>A</td>\n",
       "      <td>4</td>\n",
       "    </tr>\n",
       "  </tbody>\n",
       "</table>\n",
       "</div>"
      ],
      "text/plain": [
       "   X  Y\n",
       "0  B  1\n",
       "1  B  2\n",
       "2  A  3\n",
       "3  A  4"
      ]
     },
     "execution_count": 65,
     "metadata": {},
     "output_type": "execute_result"
    }
   ],
   "source": [
    "df2"
   ]
  },
  {
   "cell_type": "code",
   "execution_count": 71,
   "id": "1494ff41",
   "metadata": {},
   "outputs": [
    {
     "data": {
      "text/html": [
       "<div>\n",
       "<style scoped>\n",
       "    .dataframe tbody tr th:only-of-type {\n",
       "        vertical-align: middle;\n",
       "    }\n",
       "\n",
       "    .dataframe tbody tr th {\n",
       "        vertical-align: top;\n",
       "    }\n",
       "\n",
       "    .dataframe thead th {\n",
       "        text-align: right;\n",
       "    }\n",
       "</style>\n",
       "<table border=\"1\" class=\"dataframe\">\n",
       "  <thead>\n",
       "    <tr style=\"text-align: right;\">\n",
       "      <th></th>\n",
       "      <th>Y</th>\n",
       "    </tr>\n",
       "    <tr>\n",
       "      <th>X</th>\n",
       "      <th></th>\n",
       "    </tr>\n",
       "  </thead>\n",
       "  <tbody>\n",
       "    <tr>\n",
       "      <th>A</th>\n",
       "      <td>2</td>\n",
       "    </tr>\n",
       "    <tr>\n",
       "      <th>B</th>\n",
       "      <td>2</td>\n",
       "    </tr>\n",
       "  </tbody>\n",
       "</table>\n",
       "</div>"
      ],
      "text/plain": [
       "   Y\n",
       "X   \n",
       "A  2\n",
       "B  2"
      ]
     },
     "execution_count": 71,
     "metadata": {},
     "output_type": "execute_result"
    }
   ],
   "source": [
    "# df2.groupby(['x']).sum\n",
    "df2.groupby(['X']).count()"
   ]
  },
  {
   "cell_type": "code",
   "execution_count": 73,
   "id": "fff64962",
   "metadata": {},
   "outputs": [
    {
     "data": {
      "text/html": [
       "<div>\n",
       "<style scoped>\n",
       "    .dataframe tbody tr th:only-of-type {\n",
       "        vertical-align: middle;\n",
       "    }\n",
       "\n",
       "    .dataframe tbody tr th {\n",
       "        vertical-align: top;\n",
       "    }\n",
       "\n",
       "    .dataframe thead th {\n",
       "        text-align: right;\n",
       "    }\n",
       "</style>\n",
       "<table border=\"1\" class=\"dataframe\">\n",
       "  <thead>\n",
       "    <tr style=\"text-align: right;\">\n",
       "      <th></th>\n",
       "      <th>Y</th>\n",
       "    </tr>\n",
       "    <tr>\n",
       "      <th>X</th>\n",
       "      <th></th>\n",
       "    </tr>\n",
       "  </thead>\n",
       "  <tbody>\n",
       "    <tr>\n",
       "      <th>B</th>\n",
       "      <td>3</td>\n",
       "    </tr>\n",
       "    <tr>\n",
       "      <th>A</th>\n",
       "      <td>7</td>\n",
       "    </tr>\n",
       "  </tbody>\n",
       "</table>\n",
       "</div>"
      ],
      "text/plain": [
       "   Y\n",
       "X   \n",
       "B  3\n",
       "A  7"
      ]
     },
     "execution_count": 73,
     "metadata": {},
     "output_type": "execute_result"
    }
   ],
   "source": [
    "df2.groupby(['X'],sort = False).sum()"
   ]
  },
  {
   "cell_type": "code",
   "execution_count": 74,
   "id": "ddfe97fd",
   "metadata": {},
   "outputs": [
    {
     "data": {
      "text/html": [
       "<div>\n",
       "<style scoped>\n",
       "    .dataframe tbody tr th:only-of-type {\n",
       "        vertical-align: middle;\n",
       "    }\n",
       "\n",
       "    .dataframe tbody tr th {\n",
       "        vertical-align: top;\n",
       "    }\n",
       "\n",
       "    .dataframe thead th {\n",
       "        text-align: right;\n",
       "    }\n",
       "</style>\n",
       "<table border=\"1\" class=\"dataframe\">\n",
       "  <thead>\n",
       "    <tr style=\"text-align: right;\">\n",
       "      <th></th>\n",
       "      <th>X</th>\n",
       "      <th>Y</th>\n",
       "    </tr>\n",
       "  </thead>\n",
       "  <tbody>\n",
       "    <tr>\n",
       "      <th>0</th>\n",
       "      <td>B</td>\n",
       "      <td>1</td>\n",
       "    </tr>\n",
       "    <tr>\n",
       "      <th>1</th>\n",
       "      <td>B</td>\n",
       "      <td>2</td>\n",
       "    </tr>\n",
       "  </tbody>\n",
       "</table>\n",
       "</div>"
      ],
      "text/plain": [
       "   X  Y\n",
       "0  B  1\n",
       "1  B  2"
      ]
     },
     "execution_count": 74,
     "metadata": {},
     "output_type": "execute_result"
    }
   ],
   "source": [
    "df2.groupby(['X']).get_group('B')"
   ]
  },
  {
   "cell_type": "code",
   "execution_count": 79,
   "id": "86d1d90d",
   "metadata": {},
   "outputs": [
    {
     "data": {
      "text/html": [
       "<div>\n",
       "<style scoped>\n",
       "    .dataframe tbody tr th:only-of-type {\n",
       "        vertical-align: middle;\n",
       "    }\n",
       "\n",
       "    .dataframe tbody tr th {\n",
       "        vertical-align: top;\n",
       "    }\n",
       "\n",
       "    .dataframe thead th {\n",
       "        text-align: right;\n",
       "    }\n",
       "</style>\n",
       "<table border=\"1\" class=\"dataframe\">\n",
       "  <thead>\n",
       "    <tr style=\"text-align: right;\">\n",
       "      <th></th>\n",
       "      <th>X</th>\n",
       "      <th>Y</th>\n",
       "    </tr>\n",
       "  </thead>\n",
       "  <tbody>\n",
       "    <tr>\n",
       "      <th>0</th>\n",
       "      <td>B</td>\n",
       "      <td>1</td>\n",
       "    </tr>\n",
       "    <tr>\n",
       "      <th>1</th>\n",
       "      <td>B</td>\n",
       "      <td>2</td>\n",
       "    </tr>\n",
       "    <tr>\n",
       "      <th>2</th>\n",
       "      <td>A</td>\n",
       "      <td>3</td>\n",
       "    </tr>\n",
       "    <tr>\n",
       "      <th>3</th>\n",
       "      <td>A</td>\n",
       "      <td>4</td>\n",
       "    </tr>\n",
       "  </tbody>\n",
       "</table>\n",
       "</div>"
      ],
      "text/plain": [
       "   X  Y\n",
       "0  B  1\n",
       "1  B  2\n",
       "2  A  3\n",
       "3  A  4"
      ]
     },
     "execution_count": 79,
     "metadata": {},
     "output_type": "execute_result"
    }
   ],
   "source": [
    "df2"
   ]
  },
  {
   "cell_type": "code",
   "execution_count": 80,
   "id": "bdbc0042",
   "metadata": {},
   "outputs": [],
   "source": [
    "grouped = df2.groupby('X')"
   ]
  },
  {
   "cell_type": "code",
   "execution_count": 82,
   "id": "690e0fde",
   "metadata": {},
   "outputs": [
    {
     "name": "stdout",
     "output_type": "stream",
     "text": [
      "<pandas.core.groupby.generic.DataFrameGroupBy object at 0x0000026A547874F0>\n"
     ]
    }
   ],
   "source": [
    "print(grouped)"
   ]
  },
  {
   "cell_type": "code",
   "execution_count": 83,
   "id": "82ea8986",
   "metadata": {},
   "outputs": [
    {
     "ename": "TypeError",
     "evalue": "_sum_dispatcher() missing 1 required positional argument: 'a'",
     "output_type": "error",
     "traceback": [
      "\u001b[1;31m---------------------------------------------------------------------------\u001b[0m",
      "\u001b[1;31mTypeError\u001b[0m                                 Traceback (most recent call last)",
      "\u001b[1;32m<ipython-input-83-6facdcd28b46>\u001b[0m in \u001b[0;36m<module>\u001b[1;34m\u001b[0m\n\u001b[1;32m----> 1\u001b[1;33m \u001b[0mgrouped\u001b[0m\u001b[1;33m.\u001b[0m\u001b[0maggregate\u001b[0m\u001b[1;33m(\u001b[0m\u001b[0mnp\u001b[0m\u001b[1;33m.\u001b[0m\u001b[0msum\u001b[0m\u001b[1;33m(\u001b[0m\u001b[1;33m)\u001b[0m\u001b[1;33m)\u001b[0m\u001b[1;33m\u001b[0m\u001b[1;33m\u001b[0m\u001b[0m\n\u001b[0m",
      "\u001b[1;32m<__array_function__ internals>\u001b[0m in \u001b[0;36msum\u001b[1;34m(*args, **kwargs)\u001b[0m\n",
      "\u001b[1;31mTypeError\u001b[0m: _sum_dispatcher() missing 1 required positional argument: 'a'"
     ]
    }
   ],
   "source": [
    "grouped.aggregate(np.sum())"
   ]
  },
  {
   "cell_type": "code",
   "execution_count": 85,
   "id": "fcd5ef4a",
   "metadata": {},
   "outputs": [],
   "source": [
    "import nltk"
   ]
  },
  {
   "cell_type": "code",
   "execution_count": null,
   "id": "b89ba1de",
   "metadata": {},
   "outputs": [],
   "source": []
  }
 ],
 "metadata": {
  "kernelspec": {
   "display_name": "Python 3",
   "language": "python",
   "name": "python3"
  },
  "language_info": {
   "codemirror_mode": {
    "name": "ipython",
    "version": 3
   },
   "file_extension": ".py",
   "mimetype": "text/x-python",
   "name": "python",
   "nbconvert_exporter": "python",
   "pygments_lexer": "ipython3",
   "version": "3.8.8"
  }
 },
 "nbformat": 4,
 "nbformat_minor": 5
}
