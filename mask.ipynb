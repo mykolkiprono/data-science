{
 "cells": [
  {
   "cell_type": "code",
   "execution_count": 18,
   "id": "requested-botswana",
   "metadata": {},
   "outputs": [],
   "source": [
    "import tensorflow as tf\n",
    "from tensorflow import keras\n",
    "import numpy as np\n",
    "import glob\n",
    "import os\n",
    "import shutil\n",
    "import random"
   ]
  },
  {
   "cell_type": "code",
   "execution_count": 19,
   "id": "collaborative-simpson",
   "metadata": {},
   "outputs": [],
   "source": [
    "from keras.preprocessing.image import ImageDataGenerator\n",
    "from keras.layers import Activation,Dense,Conv2D,MaxPooling2D,Flatten\n",
    "from keras.metrics import categorical_crossentropy\n",
    "from keras.models import Sequential"
   ]
  },
  {
   "cell_type": "code",
   "execution_count": 20,
   "id": "leading-reach",
   "metadata": {},
   "outputs": [],
   "source": [
    "os.chdir('C:/Users/VEDIT/Desktop/images')"
   ]
  },
  {
   "cell_type": "code",
   "execution_count": 25,
   "id": "muslim-quest",
   "metadata": {},
   "outputs": [],
   "source": [
    "if os.path.isdir('train') is False:\n",
    "    os.makedirs('train')\n",
    "    os.makedirs('test')\n",
    "    \n",
    "    for c in random.sample(glob.glob('maksssksksss*'),600):\n",
    "        shutil.move(c,'train')\n",
    "        \n",
    "        \n",
    "    for c in random.sample(glob.glob('maksssksksss*'),250):\n",
    "        shutil.move(c,'test')"
   ]
  },
  {
   "cell_type": "code",
   "execution_count": 42,
   "id": "taken-mistake",
   "metadata": {},
   "outputs": [],
   "source": [
    "os.chdir('C:/Users/VEDIT/Desktop')\n",
    "# os.chdir('C:/Users/VEDIT/Desktop/machine learning')"
   ]
  },
  {
   "cell_type": "code",
   "execution_count": 43,
   "id": "painted-registrar",
   "metadata": {},
   "outputs": [],
   "source": [
    "train_path = 'images/train'\n",
    "test_path = 'images/test'\n"
   ]
  },
  {
   "cell_type": "code",
   "execution_count": 46,
   "id": "swiss-disability",
   "metadata": {},
   "outputs": [
    {
     "name": "stdout",
     "output_type": "stream",
     "text": [
      "Found 0 images belonging to 0 classes.\n",
      "Found 0 images belonging to 0 classes.\n"
     ]
    }
   ],
   "source": [
    "train_batches = ImageDataGenerator(preprocessing_function = tf.keras.applications.vgg16.preprocess_input) \\\n",
    "   .flow_from_directory(directory = train_path,batch_size = 10)\n",
    "\n",
    "test_batches = ImageDataGenerator(keras.applications.vgg16.preprocess_input)\\\n",
    "  .flow_from_directory(directory = test_path,target_size = (300,300),batch_size = 10,shuffle = False)"
   ]
  },
  {
   "cell_type": "code",
   "execution_count": null,
   "id": "moderate-anniversary",
   "metadata": {},
   "outputs": [],
   "source": []
  }
 ],
 "metadata": {
  "kernelspec": {
   "display_name": "Python 3",
   "language": "python",
   "name": "python3"
  },
  "language_info": {
   "codemirror_mode": {
    "name": "ipython",
    "version": 3
   },
   "file_extension": ".py",
   "mimetype": "text/x-python",
   "name": "python",
   "nbconvert_exporter": "python",
   "pygments_lexer": "ipython3",
   "version": "3.8.5"
  }
 },
 "nbformat": 4,
 "nbformat_minor": 5
}
