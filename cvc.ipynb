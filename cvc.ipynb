{
 "cells": [
  {
   "cell_type": "code",
   "execution_count": 1,
   "id": "special-dallas",
   "metadata": {},
   "outputs": [],
   "source": [
    "import cv2 as cv\n",
    "import numpy as np"
   ]
  },
  {
   "cell_type": "code",
   "execution_count": 48,
   "id": "labeled-brief",
   "metadata": {},
   "outputs": [
    {
     "data": {
      "text/plain": [
       "-1"
      ]
     },
     "execution_count": 48,
     "metadata": {},
     "output_type": "execute_result"
    }
   ],
   "source": [
    "blank = np.zeros((500,500,3),dtype = 'uint8')\n",
    "cv.imshow('blank',blank)\n",
    "cv.waitKey(0)"
   ]
  },
  {
   "cell_type": "code",
   "execution_count": 20,
   "id": "boolean-rapid",
   "metadata": {},
   "outputs": [
    {
     "data": {
      "text/plain": [
       "-1"
      ]
     },
     "execution_count": 20,
     "metadata": {},
     "output_type": "execute_result"
    }
   ],
   "source": [
    "# blank[250:250,450:450] = 255,0,0\n",
    "# cv.imshow('blank',blank)\n",
    "# cv.waitKey(0)"
   ]
  },
  {
   "cell_type": "code",
   "execution_count": 32,
   "id": "middle-bangladesh",
   "metadata": {},
   "outputs": [
    {
     "data": {
      "text/plain": [
       "-1"
      ]
     },
     "execution_count": 32,
     "metadata": {},
     "output_type": "execute_result"
    }
   ],
   "source": [
    "# rectangle = cv.rectangle(blank,(0,0),(blank.shape[0]//2,blank.shape[1]//2),(0,255,0),thickness = -1)\n",
    "# cv.imshow('rectangle',rectangle)\n",
    "# cv.waitKey(0)"
   ]
  },
  {
   "cell_type": "code",
   "execution_count": 55,
   "id": "discrete-disorder",
   "metadata": {},
   "outputs": [
    {
     "data": {
      "text/plain": [
       "-1"
      ]
     },
     "execution_count": 55,
     "metadata": {},
     "output_type": "execute_result"
    }
   ],
   "source": [
    "# draw a circle\n",
    "circle = cv.circle(blank,(250,250), 90, (0,0,255), -1)\n",
    "cv.putText(blank,'hello',(400,400),cv.FONT_HERSHEY_COMPLEX,3.0,(0,255,0),3)\n",
    "cv.imshow('circle',circle)\n",
    "cv.waitKey(0)"
   ]
  },
  {
   "cell_type": "code",
   "execution_count": 58,
   "id": "resident-revision",
   "metadata": {},
   "outputs": [
    {
     "data": {
      "text/plain": [
       "-1"
      ]
     },
     "execution_count": 58,
     "metadata": {},
     "output_type": "execute_result"
    }
   ],
   "source": [
    "# comnverting an image to greyscale\n",
    "image = cv.imread(\"C:/Users/VEDIT/Desktop/mike/387011_3d-cute-wallpapers-for-desktop-hd-1-jpg_1024x768_h.jpg\")\n",
    "cv.imshow('image',image)\n",
    "cv.waitKey(0)"
   ]
  },
  {
   "cell_type": "code",
   "execution_count": 62,
   "id": "purple-conditioning",
   "metadata": {},
   "outputs": [
    {
     "data": {
      "text/plain": [
       "-1"
      ]
     },
     "execution_count": 62,
     "metadata": {},
     "output_type": "execute_result"
    }
   ],
   "source": [
    "gray = cv.cvtColor(image,cv.COLOR_BGR2GRAY)\n",
    "cv.imshow('gray',gray)\n",
    "cv.waitKey(0)"
   ]
  },
  {
   "cell_type": "code",
   "execution_count": 80,
   "id": "tough-writer",
   "metadata": {},
   "outputs": [
    {
     "data": {
      "text/plain": [
       "-1"
      ]
     },
     "execution_count": 80,
     "metadata": {},
     "output_type": "execute_result"
    }
   ],
   "source": [
    "# BLURR\n",
    "blur = cv.GaussianBlur(image,(7,7),cv.BORDER_DEFAULT)\n",
    "cv.imshow(\"blur\",blur)\n",
    "cv.waitKey(0)\n"
   ]
  },
  {
   "cell_type": "code",
   "execution_count": 79,
   "id": "antique-reader",
   "metadata": {},
   "outputs": [
    {
     "data": {
      "text/plain": [
       "-1"
      ]
     },
     "execution_count": 79,
     "metadata": {},
     "output_type": "execute_result"
    }
   ],
   "source": [
    "canny = cv.Canny(image,125,175)\n",
    "cv.imshow('canny',canny)\n",
    "cv.waitKey(0)"
   ]
  },
  {
   "cell_type": "code",
   "execution_count": 78,
   "id": "proof-objective",
   "metadata": {},
   "outputs": [
    {
     "data": {
      "text/plain": [
       "-1"
      ]
     },
     "execution_count": 78,
     "metadata": {},
     "output_type": "execute_result"
    }
   ],
   "source": [
    "dilated = cv.dilate(canny,(7,7),7)\n",
    "cv.imshow('dilatd',dilated)\n",
    "cv.waitKey(0)"
   ]
  },
  {
   "cell_type": "code",
   "execution_count": 82,
   "id": "colored-beauty",
   "metadata": {},
   "outputs": [
    {
     "data": {
      "text/plain": [
       "-1"
      ]
     },
     "execution_count": 82,
     "metadata": {},
     "output_type": "execute_result"
    }
   ],
   "source": [
    "eroded = cv.erode(dilated,(3,3),1)\n",
    "cv.imshow('eroded',eroded)\n",
    "cv.waitKey(0)"
   ]
  },
  {
   "cell_type": "code",
   "execution_count": 87,
   "id": "celtic-gentleman",
   "metadata": {},
   "outputs": [
    {
     "data": {
      "text/plain": [
       "-1"
      ]
     },
     "execution_count": 87,
     "metadata": {},
     "output_type": "execute_result"
    }
   ],
   "source": [
    "resized = cv.resize(image,(500,500 ),interpolation =  cv.INTER_AREA)\n",
    "cv.imshow('resizzed',resized)\n",
    "cv.waitKey(0)"
   ]
  },
  {
   "cell_type": "code",
   "execution_count": 91,
   "id": "guided-album",
   "metadata": {},
   "outputs": [
    {
     "data": {
      "text/plain": [
       "-1"
      ]
     },
     "execution_count": 91,
     "metadata": {},
     "output_type": "execute_result"
    }
   ],
   "source": [
    "# cropping\n",
    "\n",
    "croped = image[50:200,50:200]\n",
    "cv.imshow('croped',croped)\n",
    "cv.waitKey(0)"
   ]
  },
  {
   "cell_type": "code",
   "execution_count": 100,
   "id": "collaborative-pacific",
   "metadata": {},
   "outputs": [],
   "source": [
    "# translation\n",
    "def translation(x,y,img):\n",
    "    transmat = np.float32([[1,0,x],[0,1,y]])\n",
    "    dimensions = (image.shape[0]//2,image.shape[0]//2)\n",
    "    return cv.warpAffine(img,transmat,dimensions)\n"
   ]
  },
  {
   "cell_type": "code",
   "execution_count": 103,
   "id": "damaged-large",
   "metadata": {},
   "outputs": [
    {
     "data": {
      "text/plain": [
       "-1"
      ]
     },
     "execution_count": 103,
     "metadata": {},
     "output_type": "execute_result"
    }
   ],
   "source": [
    "translated = translation(100,100,image)\n",
    "cv.imshow(\"translated\",translated)\n",
    "cv.waitKey(0)"
   ]
  },
  {
   "cell_type": "code",
   "execution_count": 105,
   "id": "neutral-toolbox",
   "metadata": {},
   "outputs": [],
   "source": [
    "# rotate\n",
    "def rotate(img,angle,rotpoint = None):\n",
    "    (height,width) = img.shape[:2]\n",
    "    if(rotpoint == None):\n",
    "        rotpoint = (width//2,height//2)\n",
    "    rotMat = cv.getRotationMatrix2D(rotpoint,angle,1.0)\n",
    "    dimensions = (width,height)\n",
    "    \n",
    "    return cv.warpAffine(image,rotMat,dimensions)\n",
    "\n",
    "        "
   ]
  },
  {
   "cell_type": "code",
   "execution_count": 108,
   "id": "floral-peace",
   "metadata": {},
   "outputs": [
    {
     "data": {
      "text/plain": [
       "-1"
      ]
     },
     "execution_count": 108,
     "metadata": {},
     "output_type": "execute_result"
    }
   ],
   "source": [
    "rotated = rotate(image,-45)\n",
    "cv.imshow('rotated',rotated)\n",
    "cv.waitKey(0)"
   ]
  },
  {
   "cell_type": "code",
   "execution_count": 113,
   "id": "super-village",
   "metadata": {},
   "outputs": [
    {
     "data": {
      "text/plain": [
       "-1"
      ]
     },
     "execution_count": 113,
     "metadata": {},
     "output_type": "execute_result"
    }
   ],
   "source": [
    "# resizing\n",
    "resized = cv.resize(image,(500,500),interpolation = cv.INTER_CUBIC)\n",
    "cv.imshow('resized',resized)\n",
    "cv.waitKey(0)"
   ]
  },
  {
   "cell_type": "code",
   "execution_count": 118,
   "id": "varied-assumption",
   "metadata": {},
   "outputs": [
    {
     "data": {
      "text/plain": [
       "-1"
      ]
     },
     "execution_count": 118,
     "metadata": {},
     "output_type": "execute_result"
    }
   ],
   "source": [
    "# FLIPPING\n",
    "flipped = cv.flip(image,1)\n",
    "cv.imshow('fliped',flipped)\n",
    "cv.waitKey(0)"
   ]
  },
  {
   "cell_type": "code",
   "execution_count": 121,
   "id": "least-simon",
   "metadata": {},
   "outputs": [],
   "source": [
    "# cropping"
   ]
  },
  {
   "cell_type": "code",
   "execution_count": 125,
   "id": "radical-adult",
   "metadata": {},
   "outputs": [
    {
     "data": {
      "text/plain": [
       "-1"
      ]
     },
     "execution_count": 125,
     "metadata": {},
     "output_type": "execute_result"
    }
   ],
   "source": [
    "gray = cv.cvtColor(image,cv.COLOR_BGR2GRAY)\n",
    "cv.imshow('gray',gray)\n",
    "cv.waitKey(0)"
   ]
  },
  {
   "cell_type": "code",
   "execution_count": 129,
   "id": "closed-interstate",
   "metadata": {},
   "outputs": [
    {
     "data": {
      "text/plain": [
       "-1"
      ]
     },
     "execution_count": 129,
     "metadata": {},
     "output_type": "execute_result"
    }
   ],
   "source": [
    "cany = cv.Canny(image,125,175)\n",
    "cv.imshow('cany',cany)\n",
    "cv.waitKey(0)"
   ]
  },
  {
   "cell_type": "code",
   "execution_count": 136,
   "id": "angry-nashville",
   "metadata": {},
   "outputs": [
    {
     "name": "stdout",
     "output_type": "stream",
     "text": [
      "131\n"
     ]
    },
    {
     "data": {
      "text/plain": [
       "-1"
      ]
     },
     "execution_count": 136,
     "metadata": {},
     "output_type": "execute_result"
    }
   ],
   "source": [
    "ret,thresh = cv.threshold(gray,125,255,cv.THRESH_BINARY)\n",
    "contours,hierachies = cv.findContours(thresh,cv.RETR_LIST,cv.CHAIN_APPROX_NONE)\n",
    "print(len(contours))\n",
    "cv.imshow(\"thresh\",thresh)\n",
    "cv.waitKey(0)"
   ]
  },
  {
   "cell_type": "code",
   "execution_count": 138,
   "id": "greater-caribbean",
   "metadata": {},
   "outputs": [],
   "source": [
    "blank = np.zeros(image.shape[:3],dtype = 'uint8')\n"
   ]
  },
  {
   "cell_type": "code",
   "execution_count": null,
   "id": "norwegian-pension",
   "metadata": {},
   "outputs": [],
   "source": [
    "cv.drawContours(blank,contours,-1,(0,0,255),2)\n",
    "cv.imshow('blank',blank)\n",
    "cv.waitKey(0)"
   ]
  }
 ],
 "metadata": {
  "kernelspec": {
   "display_name": "Python 3",
   "language": "python",
   "name": "python3"
  },
  "language_info": {
   "codemirror_mode": {
    "name": "ipython",
    "version": 3
   },
   "file_extension": ".py",
   "mimetype": "text/x-python",
   "name": "python",
   "nbconvert_exporter": "python",
   "pygments_lexer": "ipython3",
   "version": "3.8.8"
  }
 },
 "nbformat": 4,
 "nbformat_minor": 5
}
