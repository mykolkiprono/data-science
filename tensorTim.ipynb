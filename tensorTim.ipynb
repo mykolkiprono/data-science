{
 "cells": [
  {
   "cell_type": "code",
   "execution_count": 1,
   "id": "dcb768c4",
   "metadata": {},
   "outputs": [],
   "source": [
    "import tensorflow as tf\n",
    "import pandas as pd"
   ]
  },
  {
   "cell_type": "code",
   "execution_count": 2,
   "id": "d3b1b8b4",
   "metadata": {},
   "outputs": [],
   "source": [
    "from sklearn.datasets import load_iris"
   ]
  },
  {
   "cell_type": "code",
   "execution_count": 257,
   "id": "a143efa6",
   "metadata": {},
   "outputs": [
    {
     "ename": "AttributeError",
     "evalue": "classes_",
     "output_type": "error",
     "traceback": [
      "\u001b[1;31m---------------------------------------------------------------------------\u001b[0m",
      "\u001b[1;31mKeyError\u001b[0m                                  Traceback (most recent call last)",
      "\u001b[1;32m~\\anaconda3\\lib\\site-packages\\sklearn\\utils\\__init__.py\u001b[0m in \u001b[0;36m__getattr__\u001b[1;34m(self, key)\u001b[0m\n\u001b[0;32m     95\u001b[0m         \u001b[1;32mtry\u001b[0m\u001b[1;33m:\u001b[0m\u001b[1;33m\u001b[0m\u001b[1;33m\u001b[0m\u001b[0m\n\u001b[1;32m---> 96\u001b[1;33m             \u001b[1;32mreturn\u001b[0m \u001b[0mself\u001b[0m\u001b[1;33m[\u001b[0m\u001b[0mkey\u001b[0m\u001b[1;33m]\u001b[0m\u001b[1;33m\u001b[0m\u001b[1;33m\u001b[0m\u001b[0m\n\u001b[0m\u001b[0;32m     97\u001b[0m         \u001b[1;32mexcept\u001b[0m \u001b[0mKeyError\u001b[0m\u001b[1;33m:\u001b[0m\u001b[1;33m\u001b[0m\u001b[1;33m\u001b[0m\u001b[0m\n",
      "\u001b[1;31mKeyError\u001b[0m: 'classes_'",
      "\nDuring handling of the above exception, another exception occurred:\n",
      "\u001b[1;31mAttributeError\u001b[0m                            Traceback (most recent call last)",
      "\u001b[1;32m<ipython-input-257-3bb210182243>\u001b[0m in \u001b[0;36m<module>\u001b[1;34m\u001b[0m\n\u001b[0;32m      1\u001b[0m \u001b[0mdata\u001b[0m \u001b[1;33m=\u001b[0m \u001b[0mload_iris\u001b[0m\u001b[1;33m(\u001b[0m\u001b[0mas_frame\u001b[0m \u001b[1;33m=\u001b[0m \u001b[1;32mTrue\u001b[0m\u001b[1;33m)\u001b[0m\u001b[1;33m\u001b[0m\u001b[1;33m\u001b[0m\u001b[0m\n\u001b[1;32m----> 2\u001b[1;33m \u001b[0mdata\u001b[0m\u001b[1;33m.\u001b[0m\u001b[0mclasses_\u001b[0m\u001b[1;33m\u001b[0m\u001b[1;33m\u001b[0m\u001b[0m\n\u001b[0m",
      "\u001b[1;32m~\\anaconda3\\lib\\site-packages\\sklearn\\utils\\__init__.py\u001b[0m in \u001b[0;36m__getattr__\u001b[1;34m(self, key)\u001b[0m\n\u001b[0;32m     96\u001b[0m             \u001b[1;32mreturn\u001b[0m \u001b[0mself\u001b[0m\u001b[1;33m[\u001b[0m\u001b[0mkey\u001b[0m\u001b[1;33m]\u001b[0m\u001b[1;33m\u001b[0m\u001b[1;33m\u001b[0m\u001b[0m\n\u001b[0;32m     97\u001b[0m         \u001b[1;32mexcept\u001b[0m \u001b[0mKeyError\u001b[0m\u001b[1;33m:\u001b[0m\u001b[1;33m\u001b[0m\u001b[1;33m\u001b[0m\u001b[0m\n\u001b[1;32m---> 98\u001b[1;33m             \u001b[1;32mraise\u001b[0m \u001b[0mAttributeError\u001b[0m\u001b[1;33m(\u001b[0m\u001b[0mkey\u001b[0m\u001b[1;33m)\u001b[0m\u001b[1;33m\u001b[0m\u001b[1;33m\u001b[0m\u001b[0m\n\u001b[0m\u001b[0;32m     99\u001b[0m \u001b[1;33m\u001b[0m\u001b[0m\n\u001b[0;32m    100\u001b[0m     \u001b[1;32mdef\u001b[0m \u001b[0m__setstate__\u001b[0m\u001b[1;33m(\u001b[0m\u001b[0mself\u001b[0m\u001b[1;33m,\u001b[0m \u001b[0mstate\u001b[0m\u001b[1;33m)\u001b[0m\u001b[1;33m:\u001b[0m\u001b[1;33m\u001b[0m\u001b[1;33m\u001b[0m\u001b[0m\n",
      "\u001b[1;31mAttributeError\u001b[0m: classes_"
     ]
    }
   ],
   "source": [
    "data = load_iris(as_frame = True)\n",
    "data.classes_"
   ]
  },
  {
   "cell_type": "code",
   "execution_count": 253,
   "id": "69c2f82f",
   "metadata": {},
   "outputs": [
    {
     "ename": "TypeError",
     "evalue": "rename() got an unexpected keyword argument 'columns'",
     "output_type": "error",
     "traceback": [
      "\u001b[1;31m---------------------------------------------------------------------------\u001b[0m",
      "\u001b[1;31mTypeError\u001b[0m                                 Traceback (most recent call last)",
      "\u001b[1;32m<ipython-input-253-09942df0b4eb>\u001b[0m in \u001b[0;36m<module>\u001b[1;34m\u001b[0m\n\u001b[0;32m      1\u001b[0m \u001b[0mtrainy\u001b[0m \u001b[1;33m=\u001b[0m \u001b[0mdata\u001b[0m\u001b[1;33m[\u001b[0m\u001b[1;34m'target'\u001b[0m\u001b[1;33m]\u001b[0m\u001b[1;33m\u001b[0m\u001b[1;33m\u001b[0m\u001b[0m\n\u001b[1;32m----> 2\u001b[1;33m \u001b[0mtrainy\u001b[0m \u001b[1;33m=\u001b[0m \u001b[0mtrainy\u001b[0m\u001b[1;33m.\u001b[0m\u001b[0mrename\u001b[0m\u001b[1;33m(\u001b[0m\u001b[0mcolumns\u001b[0m \u001b[1;33m=\u001b[0m \u001b[1;33m{\u001b[0m\u001b[1;34m'target'\u001b[0m\u001b[1;33m:\u001b[0m\u001b[1;34m'SPECIES'\u001b[0m\u001b[1;33m}\u001b[0m\u001b[1;33m)\u001b[0m\u001b[1;33m\u001b[0m\u001b[1;33m\u001b[0m\u001b[0m\n\u001b[0m\u001b[0;32m      3\u001b[0m \u001b[0mtrainy\u001b[0m\u001b[1;33m\u001b[0m\u001b[1;33m\u001b[0m\u001b[0m\n",
      "\u001b[1;31mTypeError\u001b[0m: rename() got an unexpected keyword argument 'columns'"
     ]
    }
   ],
   "source": [
    "trainy = data['target']\n",
    "trainy = trainy.rename(columns = {'target':'SPECIES'})\n",
    "trainy"
   ]
  },
  {
   "cell_type": "code",
   "execution_count": 254,
   "id": "4df390a4",
   "metadata": {},
   "outputs": [
    {
     "data": {
      "text/plain": [
       "0      0\n",
       "1      0\n",
       "2      0\n",
       "3      0\n",
       "4      0\n",
       "      ..\n",
       "145    2\n",
       "146    2\n",
       "147    2\n",
       "148    2\n",
       "149    2\n",
       "Name: target, Length: 150, dtype: int32"
      ]
     },
     "execution_count": 254,
     "metadata": {},
     "output_type": "execute_result"
    }
   ],
   "source": [
    "trainy"
   ]
  },
  {
   "cell_type": "raw",
   "id": "fda10723",
   "metadata": {},
   "source": [
    "dftrain = dftrain.rename(columns = {'sepal length (cm)':'sepal_length','sepal width (cm)':'sepal_width','petal length (cm)':'petal_length','petal width (cm)':'petal_width'})\n",
    "dftrain"
   ]
  },
  {
   "cell_type": "code",
   "execution_count": 172,
   "id": "0f8f4909",
   "metadata": {},
   "outputs": [
    {
     "data": {
      "text/plain": [
       "(150,)"
      ]
     },
     "execution_count": 172,
     "metadata": {},
     "output_type": "execute_result"
    }
   ],
   "source": [
    "from sklearn.model_selection import train_test_split\n",
    "trainy.shape"
   ]
  },
  {
   "cell_type": "code",
   "execution_count": 173,
   "id": "34058214",
   "metadata": {},
   "outputs": [],
   "source": [
    "train,test,trainy,testy = train_test_split(dftrain,trainy,test_size = .2)"
   ]
  },
  {
   "cell_type": "code",
   "execution_count": 174,
   "id": "3f626e7d",
   "metadata": {},
   "outputs": [
    {
     "data": {
      "text/plain": [
       "(30,)"
      ]
     },
     "execution_count": 174,
     "metadata": {},
     "output_type": "execute_result"
    }
   ],
   "source": [
    "testy.shape"
   ]
  },
  {
   "cell_type": "code",
   "execution_count": 175,
   "id": "1ec74fcd",
   "metadata": {},
   "outputs": [],
   "source": [
    "def input_fn(features,labels,training = True,batch_size = 256):\n",
    "    dataset = tf.data.Dataset.from_tensor_slices((dict(features),labels))\n",
    "    if training:\n",
    "        dataset = dataset.shuffle(1000).repeat()\n",
    "    return dataset.batch(batch_size)"
   ]
  },
  {
   "cell_type": "code",
   "execution_count": 176,
   "id": "a3b74543",
   "metadata": {},
   "outputs": [
    {
     "name": "stdout",
     "output_type": "stream",
     "text": [
      "[NumericColumn(key='sepal_length', shape=(1,), default_value=None, dtype=tf.float32, normalizer_fn=None), NumericColumn(key='sepal_width', shape=(1,), default_value=None, dtype=tf.float32, normalizer_fn=None), NumericColumn(key='petal_length', shape=(1,), default_value=None, dtype=tf.float32, normalizer_fn=None), NumericColumn(key='petal_width', shape=(1,), default_value=None, dtype=tf.float32, normalizer_fn=None)]\n"
     ]
    }
   ],
   "source": [
    "my_feature_columns = []\n",
    "for key in train.keys():\n",
    "    my_feature_columns.append(tf.feature_column.numeric_column(key = key))\n",
    "print(my_feature_columns)"
   ]
  },
  {
   "cell_type": "code",
   "execution_count": 177,
   "id": "a8d6653e",
   "metadata": {},
   "outputs": [
    {
     "name": "stdout",
     "output_type": "stream",
     "text": [
      "INFO:tensorflow:Using default config.\n",
      "WARNING:tensorflow:Using temporary folder as model directory: C:\\Users\\VEDIT\\AppData\\Local\\Temp\\tmpvr4jdwx7\n",
      "INFO:tensorflow:Using config: {'_model_dir': 'C:\\\\Users\\\\VEDIT\\\\AppData\\\\Local\\\\Temp\\\\tmpvr4jdwx7', '_tf_random_seed': None, '_save_summary_steps': 100, '_save_checkpoints_steps': None, '_save_checkpoints_secs': 600, '_session_config': allow_soft_placement: true\n",
      "graph_options {\n",
      "  rewrite_options {\n",
      "    meta_optimizer_iterations: ONE\n",
      "  }\n",
      "}\n",
      ", '_keep_checkpoint_max': 5, '_keep_checkpoint_every_n_hours': 10000, '_log_step_count_steps': 100, '_train_distribute': None, '_device_fn': None, '_protocol': None, '_eval_distribute': None, '_experimental_distribute': None, '_experimental_max_worker_delay_secs': None, '_session_creation_timeout_secs': 7200, '_service': None, '_cluster_spec': ClusterSpec({}), '_task_type': 'worker', '_task_id': 0, '_global_id_in_cluster': 0, '_master': '', '_evaluation_master': '', '_is_chief': True, '_num_ps_replicas': 0, '_num_worker_replicas': 1}\n"
     ]
    }
   ],
   "source": [
    "classifier = tf.estimator.DNNClassifier(\n",
    "    feature_columns = my_feature_columns,\n",
    "    hidden_units = [30,10],\n",
    "    n_classes = 3\n",
    ")"
   ]
  },
  {
   "cell_type": "code",
   "execution_count": 178,
   "id": "44ffe118",
   "metadata": {},
   "outputs": [
    {
     "name": "stdout",
     "output_type": "stream",
     "text": [
      "INFO:tensorflow:Calling model_fn.\n",
      "WARNING:tensorflow:Layer dnn is casting an input tensor from dtype float64 to the layer's dtype of float32, which is new behavior in TensorFlow 2.  The layer has dtype float32 because its dtype defaults to floatx.\n",
      "\n",
      "If you intended to run this layer in float32, you can safely ignore this warning. If in doubt, this warning is likely only an issue if you are porting a TensorFlow 1.X model to TensorFlow 2.\n",
      "\n",
      "To change all layers to have dtype float64 by default, call `tf.keras.backend.set_floatx('float64')`. To change just this layer, pass dtype='float64' to the layer constructor. If you are the author of this layer, you can disable autocasting by passing autocast=False to the base Layer constructor.\n",
      "\n",
      "WARNING:tensorflow:From C:\\Users\\VEDIT\\anaconda3\\lib\\site-packages\\tensorflow\\python\\keras\\optimizer_v2\\adagrad.py:82: calling Constant.__init__ (from tensorflow.python.ops.init_ops) with dtype is deprecated and will be removed in a future version.\n",
      "Instructions for updating:\n",
      "Call initializer instance with the dtype argument instead of passing it to the constructor\n",
      "INFO:tensorflow:Done calling model_fn.\n",
      "INFO:tensorflow:Create CheckpointSaverHook.\n",
      "INFO:tensorflow:Graph was finalized.\n",
      "INFO:tensorflow:Running local_init_op.\n",
      "INFO:tensorflow:Done running local_init_op.\n",
      "INFO:tensorflow:Calling checkpoint listeners before saving checkpoint 0...\n",
      "INFO:tensorflow:Saving checkpoints for 0 into C:\\Users\\VEDIT\\AppData\\Local\\Temp\\tmpvr4jdwx7\\model.ckpt.\n",
      "INFO:tensorflow:Calling checkpoint listeners after saving checkpoint 0...\n",
      "INFO:tensorflow:loss = 1.5406557, step = 0\n",
      "INFO:tensorflow:global_step/sec: 145.686\n",
      "INFO:tensorflow:loss = 1.1730586, step = 100 (0.645 sec)\n",
      "INFO:tensorflow:global_step/sec: 259.029\n",
      "INFO:tensorflow:loss = 1.0555441, step = 200 (0.345 sec)\n",
      "INFO:tensorflow:global_step/sec: 335.973\n",
      "INFO:tensorflow:loss = 0.9858211, step = 300 (0.303 sec)\n",
      "INFO:tensorflow:global_step/sec: 325.7\n",
      "INFO:tensorflow:loss = 0.9424695, step = 400 (0.302 sec)\n",
      "INFO:tensorflow:global_step/sec: 312.694\n",
      "INFO:tensorflow:loss = 0.90359735, step = 500 (0.320 sec)\n",
      "INFO:tensorflow:global_step/sec: 312.576\n",
      "INFO:tensorflow:loss = 0.8690106, step = 600 (0.322 sec)\n",
      "INFO:tensorflow:global_step/sec: 266.545\n",
      "INFO:tensorflow:loss = 0.8461879, step = 700 (0.376 sec)\n",
      "INFO:tensorflow:global_step/sec: 266.092\n",
      "INFO:tensorflow:loss = 0.8144881, step = 800 (0.373 sec)\n",
      "INFO:tensorflow:global_step/sec: 333.292\n",
      "INFO:tensorflow:loss = 0.7942573, step = 900 (0.300 sec)\n",
      "INFO:tensorflow:global_step/sec: 300.378\n",
      "INFO:tensorflow:loss = 0.77605027, step = 1000 (0.338 sec)\n",
      "INFO:tensorflow:global_step/sec: 322.461\n",
      "INFO:tensorflow:loss = 0.7661023, step = 1100 (0.305 sec)\n",
      "INFO:tensorflow:global_step/sec: 332.015\n",
      "INFO:tensorflow:loss = 0.74732274, step = 1200 (0.301 sec)\n",
      "INFO:tensorflow:global_step/sec: 325.568\n",
      "INFO:tensorflow:loss = 0.7148419, step = 1300 (0.307 sec)\n",
      "INFO:tensorflow:global_step/sec: 323.883\n",
      "INFO:tensorflow:loss = 0.71835136, step = 1400 (0.309 sec)\n",
      "INFO:tensorflow:global_step/sec: 338.646\n",
      "INFO:tensorflow:loss = 0.7026479, step = 1500 (0.298 sec)\n",
      "INFO:tensorflow:global_step/sec: 332.634\n",
      "INFO:tensorflow:loss = 0.68403107, step = 1600 (0.297 sec)\n",
      "INFO:tensorflow:global_step/sec: 333.6\n",
      "INFO:tensorflow:loss = 0.6787811, step = 1700 (0.300 sec)\n",
      "INFO:tensorflow:global_step/sec: 325.373\n",
      "INFO:tensorflow:loss = 0.6701398, step = 1800 (0.309 sec)\n",
      "INFO:tensorflow:global_step/sec: 268.87\n",
      "INFO:tensorflow:loss = 0.6636883, step = 1900 (0.370 sec)\n",
      "INFO:tensorflow:global_step/sec: 326.661\n",
      "INFO:tensorflow:loss = 0.6455331, step = 2000 (0.307 sec)\n",
      "INFO:tensorflow:global_step/sec: 290.407\n",
      "INFO:tensorflow:loss = 0.64062047, step = 2100 (0.343 sec)\n",
      "INFO:tensorflow:global_step/sec: 278.018\n",
      "INFO:tensorflow:loss = 0.624924, step = 2200 (0.365 sec)\n",
      "INFO:tensorflow:global_step/sec: 265.21\n",
      "INFO:tensorflow:loss = 0.62797564, step = 2300 (0.374 sec)\n",
      "INFO:tensorflow:global_step/sec: 261.327\n",
      "INFO:tensorflow:loss = 0.61973053, step = 2400 (0.382 sec)\n",
      "INFO:tensorflow:global_step/sec: 277.858\n",
      "INFO:tensorflow:loss = 0.60259527, step = 2500 (0.364 sec)\n",
      "INFO:tensorflow:global_step/sec: 267.183\n",
      "INFO:tensorflow:loss = 0.60927814, step = 2600 (0.369 sec)\n",
      "INFO:tensorflow:global_step/sec: 294.125\n",
      "INFO:tensorflow:loss = 0.5929862, step = 2700 (0.345 sec)\n",
      "INFO:tensorflow:global_step/sec: 315.996\n",
      "INFO:tensorflow:loss = 0.5857632, step = 2800 (0.316 sec)\n",
      "INFO:tensorflow:global_step/sec: 304.436\n",
      "INFO:tensorflow:loss = 0.5801925, step = 2900 (0.324 sec)\n",
      "INFO:tensorflow:global_step/sec: 289.216\n",
      "INFO:tensorflow:loss = 0.57492095, step = 3000 (0.346 sec)\n",
      "INFO:tensorflow:global_step/sec: 333.894\n",
      "INFO:tensorflow:loss = 0.5631274, step = 3100 (0.299 sec)\n",
      "INFO:tensorflow:global_step/sec: 328.322\n",
      "INFO:tensorflow:loss = 0.57269055, step = 3200 (0.305 sec)\n",
      "INFO:tensorflow:global_step/sec: 333.95\n",
      "INFO:tensorflow:loss = 0.5565064, step = 3300 (0.304 sec)\n",
      "INFO:tensorflow:global_step/sec: 275.715\n",
      "INFO:tensorflow:loss = 0.5479864, step = 3400 (0.358 sec)\n",
      "INFO:tensorflow:global_step/sec: 287.359\n",
      "INFO:tensorflow:loss = 0.5511631, step = 3500 (0.353 sec)\n",
      "INFO:tensorflow:global_step/sec: 312.371\n",
      "INFO:tensorflow:loss = 0.54945946, step = 3600 (0.315 sec)\n",
      "INFO:tensorflow:global_step/sec: 322.204\n",
      "INFO:tensorflow:loss = 0.5318743, step = 3700 (0.311 sec)\n",
      "INFO:tensorflow:global_step/sec: 317.637\n",
      "INFO:tensorflow:loss = 0.5219431, step = 3800 (0.314 sec)\n",
      "INFO:tensorflow:global_step/sec: 323.656\n",
      "INFO:tensorflow:loss = 0.52486163, step = 3900 (0.309 sec)\n",
      "INFO:tensorflow:global_step/sec: 325.63\n",
      "INFO:tensorflow:loss = 0.5116255, step = 4000 (0.307 sec)\n",
      "INFO:tensorflow:global_step/sec: 332.704\n",
      "INFO:tensorflow:loss = 0.5156367, step = 4100 (0.301 sec)\n",
      "INFO:tensorflow:global_step/sec: 329.71\n",
      "INFO:tensorflow:loss = 0.5089545, step = 4200 (0.308 sec)\n",
      "INFO:tensorflow:global_step/sec: 309.905\n",
      "INFO:tensorflow:loss = 0.50906634, step = 4300 (0.323 sec)\n",
      "INFO:tensorflow:global_step/sec: 288.526\n",
      "INFO:tensorflow:loss = 0.513458, step = 4400 (0.344 sec)\n",
      "INFO:tensorflow:global_step/sec: 288.182\n",
      "INFO:tensorflow:loss = 0.49911803, step = 4500 (0.346 sec)\n",
      "INFO:tensorflow:global_step/sec: 333.55\n",
      "INFO:tensorflow:loss = 0.4920722, step = 4600 (0.304 sec)\n",
      "INFO:tensorflow:global_step/sec: 330.701\n",
      "INFO:tensorflow:loss = 0.50072324, step = 4700 (0.302 sec)\n",
      "INFO:tensorflow:global_step/sec: 329.86\n",
      "INFO:tensorflow:loss = 0.48612267, step = 4800 (0.298 sec)\n",
      "INFO:tensorflow:global_step/sec: 276.459\n",
      "INFO:tensorflow:loss = 0.46597463, step = 4900 (0.384 sec)\n",
      "INFO:tensorflow:Calling checkpoint listeners before saving checkpoint 5000...\n",
      "INFO:tensorflow:Saving checkpoints for 5000 into C:\\Users\\VEDIT\\AppData\\Local\\Temp\\tmpvr4jdwx7\\model.ckpt.\n",
      "INFO:tensorflow:Calling checkpoint listeners after saving checkpoint 5000...\n",
      "INFO:tensorflow:Loss for final step: 0.48464286.\n"
     ]
    },
    {
     "data": {
      "text/plain": [
       "<tensorflow_estimator.python.estimator.canned.dnn.DNNClassifierV2 at 0x1a69c3846a0>"
      ]
     },
     "execution_count": 178,
     "metadata": {},
     "output_type": "execute_result"
    }
   ],
   "source": [
    "classifier.train(input_fn = lambda: input_fn(train,trainy,training = True),steps = 5000)"
   ]
  },
  {
   "cell_type": "code",
   "execution_count": 181,
   "id": "540aad9e",
   "metadata": {},
   "outputs": [
    {
     "name": "stdout",
     "output_type": "stream",
     "text": [
      "INFO:tensorflow:Calling model_fn.\n",
      "WARNING:tensorflow:Layer dnn is casting an input tensor from dtype float64 to the layer's dtype of float32, which is new behavior in TensorFlow 2.  The layer has dtype float32 because its dtype defaults to floatx.\n",
      "\n",
      "If you intended to run this layer in float32, you can safely ignore this warning. If in doubt, this warning is likely only an issue if you are porting a TensorFlow 1.X model to TensorFlow 2.\n",
      "\n",
      "To change all layers to have dtype float64 by default, call `tf.keras.backend.set_floatx('float64')`. To change just this layer, pass dtype='float64' to the layer constructor. If you are the author of this layer, you can disable autocasting by passing autocast=False to the base Layer constructor.\n",
      "\n",
      "INFO:tensorflow:Done calling model_fn.\n",
      "INFO:tensorflow:Create CheckpointSaverHook.\n",
      "INFO:tensorflow:Graph was finalized.\n",
      "INFO:tensorflow:Restoring parameters from C:\\Users\\VEDIT\\AppData\\Local\\Temp\\tmpvr4jdwx7\\model.ckpt-10001\n",
      "INFO:tensorflow:Running local_init_op.\n",
      "INFO:tensorflow:Done running local_init_op.\n",
      "INFO:tensorflow:Calling checkpoint listeners before saving checkpoint 10001...\n",
      "INFO:tensorflow:Saving checkpoints for 10001 into C:\\Users\\VEDIT\\AppData\\Local\\Temp\\tmpvr4jdwx7\\model.ckpt.\n",
      "INFO:tensorflow:Calling checkpoint listeners after saving checkpoint 10001...\n",
      "INFO:tensorflow:loss = 0.3085139, step = 10001\n",
      "INFO:tensorflow:Calling checkpoint listeners before saving checkpoint 10002...\n",
      "INFO:tensorflow:Saving checkpoints for 10002 into C:\\Users\\VEDIT\\AppData\\Local\\Temp\\tmpvr4jdwx7\\model.ckpt.\n",
      "INFO:tensorflow:Calling checkpoint listeners after saving checkpoint 10002...\n",
      "INFO:tensorflow:Loss for final step: 0.3085139.\n"
     ]
    }
   ],
   "source": [
    "eval_result = classifier.train(input_fn = lambda: input_fn(test,testy,training = False))"
   ]
  },
  {
   "cell_type": "code",
   "execution_count": 195,
   "id": "204cd08a",
   "metadata": {},
   "outputs": [
    {
     "name": "stdout",
     "output_type": "stream",
     "text": [
      "INFO:tensorflow:Calling model_fn.\n",
      "WARNING:tensorflow:Layer dnn is casting an input tensor from dtype float64 to the layer's dtype of float32, which is new behavior in TensorFlow 2.  The layer has dtype float32 because its dtype defaults to floatx.\n",
      "\n",
      "If you intended to run this layer in float32, you can safely ignore this warning. If in doubt, this warning is likely only an issue if you are porting a TensorFlow 1.X model to TensorFlow 2.\n",
      "\n",
      "To change all layers to have dtype float64 by default, call `tf.keras.backend.set_floatx('float64')`. To change just this layer, pass dtype='float64' to the layer constructor. If you are the author of this layer, you can disable autocasting by passing autocast=False to the base Layer constructor.\n",
      "\n",
      "INFO:tensorflow:Done calling model_fn.\n",
      "INFO:tensorflow:Starting evaluation at 2021-04-01T11:42:32Z\n",
      "INFO:tensorflow:Graph was finalized.\n",
      "INFO:tensorflow:Restoring parameters from C:\\Users\\VEDIT\\AppData\\Local\\Temp\\tmpvr4jdwx7\\model.ckpt-10006\n",
      "INFO:tensorflow:Running local_init_op.\n",
      "INFO:tensorflow:Done running local_init_op.\n",
      "INFO:tensorflow:Inference Time : 0.25643s\n",
      "INFO:tensorflow:Finished evaluation at 2021-04-01-11:42:32\n",
      "INFO:tensorflow:Saving dict for global step 10006: accuracy = 0.96666664, average_loss = 0.30841592, global_step = 10006, loss = 0.30841592\n",
      "INFO:tensorflow:Saving 'checkpoint_path' summary for global step 10006: C:\\Users\\VEDIT\\AppData\\Local\\Temp\\tmpvr4jdwx7\\model.ckpt-10006\n",
      "\n",
      " test set accuracy : 0.967\n",
      "\n"
     ]
    }
   ],
   "source": [
    "eval_result = classifier.evaluate(input_fn = lambda: input_fn(test,testy,training = False))\n",
    "print('\\n test set accuracy : {accuracy:0.3f}\\n'.format(**eval_result))"
   ]
  },
  {
   "cell_type": "code",
   "execution_count": 241,
   "id": "93e55eff",
   "metadata": {},
   "outputs": [],
   "source": [
    "def input_fn(features,batch_size = 256):\n",
    "    return tf.data.Dataset.from_tensor_slices(dict(features)).batch(batch_size)\n"
   ]
  },
  {
   "cell_type": "code",
   "execution_count": 258,
   "id": "aa3d8ac1",
   "metadata": {},
   "outputs": [],
   "source": [
    "features = ['sepal_length','sepal_width','petal_length','petal_width']\n",
    "SPECIES = ['setosa', 'versicolor', 'virginica']\n",
    "predict = {}"
   ]
  },
  {
   "cell_type": "code",
   "execution_count": 263,
   "id": "d9460710",
   "metadata": {},
   "outputs": [
    {
     "name": "stdout",
     "output_type": "stream",
     "text": [
      "Enter numeerical values to predict\n",
      "sepal_length:6\n",
      "sepal_width:6\n",
      "petal_length:6\n",
      "petal_width:6\n",
      "INFO:tensorflow:Calling model_fn.\n",
      "INFO:tensorflow:Done calling model_fn.\n",
      "INFO:tensorflow:Graph was finalized.\n",
      "INFO:tensorflow:Restoring parameters from C:\\Users\\VEDIT\\AppData\\Local\\Temp\\tmpvr4jdwx7\\model.ckpt-10006\n",
      "INFO:tensorflow:Running local_init_op.\n",
      "INFO:tensorflow:Done running local_init_op.\n",
      "prediction is 'virginica' (81.22)%\n",
      "{'sepal_length': [6.0], 'sepal_width': [6.0], 'petal_length': [6.0], 'petal_width': [6.0]}\n"
     ]
    }
   ],
   "source": [
    "print(\"Enter numeerical values to predict\")\n",
    "for feature in features:\n",
    "    valid = True\n",
    "    val = input(feature+\":\")\n",
    "    if not val.isdigit():\n",
    "        valid = False\n",
    "    predict[feature] = [float(val)]\n",
    "predictions = classifier.predict(input_fn = lambda:input_fn(predict))\n",
    "for pred_dict in predictions:\n",
    "    class_id = pred_dict['class_ids'][0]\n",
    "    probability = pred_dict['probabilities'][class_id]\n",
    "    print(\"prediction is '{}' ({:.2f})%\".format(SPECIES[class_id],100*probability))\n",
    "predict\n",
    "print(predict)"
   ]
  },
  {
   "cell_type": "code",
   "execution_count": 264,
   "id": "7e2c9929",
   "metadata": {},
   "outputs": [
    {
     "name": "stdout",
     "output_type": "stream",
     "text": [
      "{'logits': array([-5.3201747, -2.7738752, -1.2337976], dtype=float32), 'probabilities': array([0.01364561, 0.17411521, 0.81223917], dtype=float32), 'class_ids': array([2], dtype=int64), 'classes': array([b'2'], dtype=object), 'all_class_ids': array([0, 1, 2]), 'all_classes': array([b'0', b'1', b'2'], dtype=object)}\n"
     ]
    }
   ],
   "source": [
    "print(pred_dict)"
   ]
  },
  {
   "cell_type": "code",
   "execution_count": 230,
   "id": "8dbd8add",
   "metadata": {},
   "outputs": [
    {
     "name": "stdout",
     "output_type": "stream",
     "text": [
      "{1: 'one', 2: 'two'}\n"
     ]
    }
   ],
   "source": [
    "my = {1:'one',2:'two'}\n",
    "print(my)"
   ]
  },
  {
   "cell_type": "code",
   "execution_count": 255,
   "id": "09d7479f",
   "metadata": {},
   "outputs": [
    {
     "data": {
      "text/plain": [
       "0      0\n",
       "1      0\n",
       "2      0\n",
       "3      0\n",
       "4      0\n",
       "      ..\n",
       "145    2\n",
       "146    2\n",
       "147    2\n",
       "148    2\n",
       "149    2\n",
       "Name: target, Length: 150, dtype: int32"
      ]
     },
     "execution_count": 255,
     "metadata": {},
     "output_type": "execute_result"
    }
   ],
   "source": [
    "trainy"
   ]
  },
  {
   "cell_type": "code",
   "execution_count": null,
   "id": "6272457c",
   "metadata": {},
   "outputs": [],
   "source": []
  }
 ],
 "metadata": {
  "kernelspec": {
   "display_name": "Python 3",
   "language": "python",
   "name": "python3"
  },
  "language_info": {
   "codemirror_mode": {
    "name": "ipython",
    "version": 3
   },
   "file_extension": ".py",
   "mimetype": "text/x-python",
   "name": "python",
   "nbconvert_exporter": "python",
   "pygments_lexer": "ipython3",
   "version": "3.9.5"
  }
 },
 "nbformat": 4,
 "nbformat_minor": 5
}
