{
 "cells": [
  {
   "cell_type": "code",
   "execution_count": 1,
   "id": "specialized-technician",
   "metadata": {},
   "outputs": [],
   "source": [
    "import tensorflow as tf\n",
    "import os\n",
    "import numpy as np\n",
    "import cProfile"
   ]
  },
  {
   "cell_type": "code",
   "execution_count": 2,
   "id": "duplicate-specialist",
   "metadata": {},
   "outputs": [
    {
     "data": {
      "text/plain": [
       "True"
      ]
     },
     "execution_count": 2,
     "metadata": {},
     "output_type": "execute_result"
    }
   ],
   "source": [
    "tf.executing_eagerly()"
   ]
  },
  {
   "cell_type": "code",
   "execution_count": 3,
   "id": "atomic-shoot",
   "metadata": {},
   "outputs": [
    {
     "name": "stdout",
     "output_type": "stream",
     "text": [
      "hello [[16.]]\n"
     ]
    }
   ],
   "source": [
    "x = [[4.]]\n",
    "m = tf.matmul(x,x)\n",
    "print(\"hello\",m.numpy())"
   ]
  },
  {
   "cell_type": "code",
   "execution_count": 4,
   "id": "secure-financing",
   "metadata": {},
   "outputs": [
    {
     "name": "stdout",
     "output_type": "stream",
     "text": [
      "hello, [[16.]]\n"
     ]
    }
   ],
   "source": [
    "print(\"hello, {}\".format(m))"
   ]
  },
  {
   "cell_type": "code",
   "execution_count": 22,
   "id": "broad-italic",
   "metadata": {},
   "outputs": [],
   "source": [
    "a = tf.constant([[1,2,3,4],[1,2,3,4]])\n",
    "b = tf.constant([[2,3,4,5],[2,3,4,5]])\n",
    "C = tf.constant([[1,2],[1,2],[1,2],[1,2]])"
   ]
  },
  {
   "cell_type": "code",
   "execution_count": 23,
   "id": "sought-sessions",
   "metadata": {},
   "outputs": [
    {
     "name": "stdout",
     "output_type": "stream",
     "text": [
      "[[3 5 7 9]\n",
      " [3 5 7 9]]\n"
     ]
    }
   ],
   "source": [
    "print(tf.add(a,b).numpy())"
   ]
  },
  {
   "cell_type": "code",
   "execution_count": 24,
   "id": "careful-tokyo",
   "metadata": {},
   "outputs": [
    {
     "name": "stdout",
     "output_type": "stream",
     "text": [
      "[2. 3. 4. 5.]\n"
     ]
    }
   ],
   "source": [
    "c = tf.Variable([2,3,4,5],dtype = tf.float32)\n",
    "print(c.numpy())"
   ]
  },
  {
   "cell_type": "code",
   "execution_count": 25,
   "id": "adapted-newspaper",
   "metadata": {},
   "outputs": [
    {
     "name": "stdout",
     "output_type": "stream",
     "text": [
      "[[ 2  6 12 20]\n",
      " [ 2  6 12 20]]\n"
     ]
    }
   ],
   "source": [
    "print(tf.multiply(a,b).numpy())\n"
   ]
  },
  {
   "cell_type": "code",
   "execution_count": 26,
   "id": "numerous-architecture",
   "metadata": {},
   "outputs": [
    {
     "name": "stdout",
     "output_type": "stream",
     "text": [
      "[[10 20]\n",
      " [10 20]]\n"
     ]
    }
   ],
   "source": [
    "print(tf.matmul(a,C).numpy())"
   ]
  },
  {
   "cell_type": "code",
   "execution_count": 41,
   "id": "fuzzy-prediction",
   "metadata": {},
   "outputs": [
    {
     "name": "stdout",
     "output_type": "stream",
     "text": [
      "1\n",
      "2\n",
      "fizz\n",
      "4\n",
      "buzz\n",
      "fizz\n",
      "7\n",
      "8\n",
      "fizz\n",
      "buzz\n",
      "11\n",
      "fizz\n",
      "13\n",
      "14\n",
      "fizzbuzz\n",
      "16\n",
      "17\n",
      "fizz\n",
      "19\n",
      "buzz\n",
      "fizz\n",
      "22\n",
      "23\n",
      "fizz\n",
      "buzz\n",
      "26\n",
      "fizz\n",
      "28\n",
      "29\n"
     ]
    }
   ],
   "source": [
    "def fizzbuzz(max_num):\n",
    "    counter = tf.constant(0)\n",
    "    max_num = tf.convert_to_tensor(max_num)\n",
    "    for num in range(1,max_num):\n",
    "        num = tf.constant(num)\n",
    "    \n",
    "        if (num%3==0 and num %5 ==0):\n",
    "            print(\"fizzbuzz\")\n",
    "        elif(num %3 == 0):\n",
    "            print(\"fizz\")\n",
    "        elif (num%5 == 0):\n",
    "            print(\"buzz\")\n",
    "            counter+=1\n",
    "        \n",
    "        else:\n",
    "            print(num.numpy())\n",
    "fizzbuzz(30)       "
   ]
  },
  {
   "cell_type": "markdown",
   "id": "quick-crossing",
   "metadata": {},
   "source": [
    "## auto differentiation"
   ]
  },
  {
   "cell_type": "code",
   "execution_count": 54,
   "id": "collective-supplier",
   "metadata": {},
   "outputs": [
    {
     "name": "stdout",
     "output_type": "stream",
     "text": [
      "[[6.]]\n"
     ]
    }
   ],
   "source": [
    "w = tf.Variable([[3.0]])\n",
    "with tf.GradientTape() as tape:\n",
    "    loss = w*w\n",
    "    grad = tape.gradient(loss,w)\n",
    "    print(grad.numpy())\n",
    "    "
   ]
  },
  {
   "cell_type": "code",
   "execution_count": 70,
   "id": "choice-notebook",
   "metadata": {},
   "outputs": [],
   "source": [
    "(mnist_images, mnist_labels), _ = tf.keras.datasets.mnist.load_data()\n",
    "dataset = tf.data.Dataset.from_tensor_slices(\n",
    "  (tf.cast(mnist_images[...,tf.newaxis]/255, tf.float32),\n",
    "   tf.cast(mnist_labels,tf.int64)))\n",
    "dataset = dataset.shuffle(1000).batch(32)\n",
    "mnist_model = tf.keras.Sequential([\n",
    "    tf.keras.layers.Conv2D(16,[3,3],activation = 'relu',input_shape = (None,None,1)),\n",
    "    tf.keras.layers.Conv2D(16,[3,3],activation = 'relu'),\n",
    "    tf.keras.layers.GlobalAveragePooling2D(),\n",
    "    tf.keras.layers.Dense(10)\n",
    "    ])"
   ]
  },
  {
   "cell_type": "code",
   "execution_count": 71,
   "id": "marked-disability",
   "metadata": {},
   "outputs": [
    {
     "name": "stdout",
     "output_type": "stream",
     "text": [
      "Logits:  [[ 0.02450528 -0.01287182 -0.05914166  0.04487088 -0.01710892  0.00990111\n",
      "  -0.00833228 -0.01761301 -0.03273392  0.00288826]]\n"
     ]
    }
   ],
   "source": [
    "for images,labels in dataset.take(1):\n",
    "    print(\"Logits: \", mnist_model(images[0:1]).numpy())"
   ]
  },
  {
   "cell_type": "code",
   "execution_count": 82,
   "id": "certain-controversy",
   "metadata": {},
   "outputs": [],
   "source": [
    "# optimizer = tf.keras.optimizers.Adam()\n",
    "# loss_object = tf.keras.losses.SparseCategoricalCrossentropy(from_logits = True)\n",
    "# loss_history = []"
   ]
  },
  {
   "cell_type": "code",
   "execution_count": 84,
   "id": "cardiovascular-qatar",
   "metadata": {},
   "outputs": [],
   "source": [
    "optimizer = tf.keras.optimizers.Adam()\n",
    "loss_object = tf.keras.losses.SparseCategoricalCrossentropy(from_logits=True)\n",
    "\n",
    "#loss_history = []"
   ]
  },
  {
   "cell_type": "code",
   "execution_count": 81,
   "id": "fluid-friday",
   "metadata": {},
   "outputs": [],
   "source": [
    "# def train_step(images,labels):\n",
    "#     with GradientTape as tape:\n",
    "#         logits = mnist_model(images,trainning = True)\n",
    "#         # Add asserts to check the shape of the output.\n",
    "#         tf.debugging.assert_equals(logits.shape,(32,10))\n",
    "#         loss_value = loss_object(labels, logits)\n",
    "\n",
    "#         loss_history.append(loss_value.numpy().mean())\n",
    "#         grads = gradient(loss_value,mnist_model.trainable_variables)\n",
    "#         optimizer.apply_gradients(zip(gradients,mnist_model.trainable_variables))\n",
    "        "
   ]
  },
  {
   "cell_type": "code",
   "execution_count": 79,
   "id": "attempted-insulation",
   "metadata": {},
   "outputs": [],
   "source": [
    "def train(epochs):\n",
    "    for epoch in range(epochs):\n",
    "         for (batch, (images, labels)) in enumerate(dataset):\n",
    "                train_step(images, labels)\n",
    "                print ('Epoch {} finished'.format(epoch))"
   ]
  },
  {
   "cell_type": "code",
   "execution_count": null,
   "id": "shared-sheet",
   "metadata": {},
   "outputs": [],
   "source": []
  },
  {
   "cell_type": "code",
   "execution_count": null,
   "id": "dirty-beast",
   "metadata": {},
   "outputs": [],
   "source": []
  }
 ],
 "metadata": {
  "kernelspec": {
   "display_name": "Python 3",
   "language": "python",
   "name": "python3"
  },
  "language_info": {
   "codemirror_mode": {
    "name": "ipython",
    "version": 3
   },
   "file_extension": ".py",
   "mimetype": "text/x-python",
   "name": "python",
   "nbconvert_exporter": "python",
   "pygments_lexer": "ipython3",
   "version": "3.8.5"
  }
 },
 "nbformat": 4,
 "nbformat_minor": 5
}
