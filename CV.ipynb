{
 "cells": [
  {
   "cell_type": "code",
   "execution_count": 9,
   "id": "defined-entrance",
   "metadata": {},
   "outputs": [],
   "source": [
    "import pandas as pd\n",
    "import numpy as np\n",
    "from sklearn.metrics import accuracy_score\n",
    "from sklearn.pipeline import make_pipeline\n",
    "from sklearn.model_selection import train_test_split\n",
    "from sklearn.preprocessing import StandardScaler\n",
    "from sklearn.datasets import load_iris\n",
    "from sklearn.linear_model import LogisticRegression"
   ]
  },
  {
   "cell_type": "code",
   "execution_count": null,
   "id": "indian-length",
   "metadata": {},
   "outputs": [],
   "source": []
  },
  {
   "cell_type": "code",
   "execution_count": 23,
   "id": "relevant-fundamentals",
   "metadata": {},
   "outputs": [],
   "source": [
    "pipe = make_pipeline(\n",
    "    StandardScaler(),\n",
    "    LogisticRegression(random_state = 0)\n",
    ")"
   ]
  },
  {
   "cell_type": "code",
   "execution_count": 24,
   "id": "chubby-organization",
   "metadata": {},
   "outputs": [],
   "source": [
    "X,y = load_iris(return_X_y = True)"
   ]
  },
  {
   "cell_type": "code",
   "execution_count": 25,
   "id": "appropriate-veteran",
   "metadata": {},
   "outputs": [],
   "source": [
    "X_train,X_test,y_train,y_test = train_test_split(X,y,test_size = .3)"
   ]
  },
  {
   "cell_type": "code",
   "execution_count": 28,
   "id": "median-pasta",
   "metadata": {},
   "outputs": [
    {
     "data": {
      "text/plain": [
       "Pipeline(steps=[('standardscaler', StandardScaler()),\n",
       "                ('logisticregression', LogisticRegression(random_state=0))])"
      ]
     },
     "execution_count": 28,
     "metadata": {},
     "output_type": "execute_result"
    }
   ],
   "source": [
    "pipe.fit(X_train,y_train)\n",
    "#Pipeline(steps=[('standardscaler', StandardScaler()),('logisticregression', LogisticRegression(random_state=0))])"
   ]
  },
  {
   "cell_type": "code",
   "execution_count": 30,
   "id": "swedish-penalty",
   "metadata": {},
   "outputs": [
    {
     "name": "stdout",
     "output_type": "stream",
     "text": [
      "Accuracy score 0.9333333333333333\n"
     ]
    }
   ],
   "source": [
    "y_pred = pipe.predict(X_test)\n",
    "print('Accuracy score',accuracy_score(y_test,y_pred))"
   ]
  },
  {
   "cell_type": "markdown",
   "id": "visible-documentation",
   "metadata": {},
   "source": [
    "# # cross validation"
   ]
  },
  {
   "cell_type": "code",
   "execution_count": 32,
   "id": "polar-counter",
   "metadata": {},
   "outputs": [],
   "source": [
    "from sklearn.linear_model import LinearRegression\n",
    "from sklearn.datasets import make_regression\n",
    "from sklearn.model_selection import cross_validate"
   ]
  },
  {
   "cell_type": "code",
   "execution_count": 43,
   "id": "retired-devon",
   "metadata": {},
   "outputs": [],
   "source": [
    "X,y = make_regression(n_samples = 200000,random_state = 0)"
   ]
  },
  {
   "cell_type": "code",
   "execution_count": 44,
   "id": "smoking-parking",
   "metadata": {},
   "outputs": [],
   "source": [
    "lr = LinearRegression(fit_intercept = True)\n",
    "result = cross_validate(lr,X,y)"
   ]
  },
  {
   "cell_type": "code",
   "execution_count": 45,
   "id": "meaning-murder",
   "metadata": {},
   "outputs": [
    {
     "data": {
      "text/plain": [
       "array([1., 1., 1., 1., 1.])"
      ]
     },
     "execution_count": 45,
     "metadata": {},
     "output_type": "execute_result"
    }
   ],
   "source": [
    "result['test_score']"
   ]
  },
  {
   "cell_type": "markdown",
   "id": "developed-presentation",
   "metadata": {},
   "source": [
    "## Automatic parameter searches"
   ]
  },
  {
   "cell_type": "markdown",
   "id": "rising-madonna",
   "metadata": {},
   "source": [
    "# Randomized search"
   ]
  },
  {
   "cell_type": "code",
   "execution_count": 55,
   "id": "affecting-arlington",
   "metadata": {},
   "outputs": [],
   "source": [
    "from sklearn.datasets import make_regression\n",
    "from sklearn.ensemble import RandomForestRegressor\n",
    "from sklearn.model_selection import train_test_split\n",
    "from sklearn.model_selection import RandomizedSearchCV\n",
    "from scipy.stats import randint"
   ]
  },
  {
   "cell_type": "code",
   "execution_count": 78,
   "id": "curious-proceeding",
   "metadata": {},
   "outputs": [],
   "source": [
    "df = pd.read_csv(\"C:/Users/VEDIT/Desktop/datascience/datasets/linear_regression/house_prices_datasets/house_price_dataset_original_v2_cleaned.csv\")"
   ]
  },
  {
   "cell_type": "code",
   "execution_count": 79,
   "id": "legitimate-maine",
   "metadata": {},
   "outputs": [
    {
     "data": {
      "text/html": [
       "<div>\n",
       "<style scoped>\n",
       "    .dataframe tbody tr th:only-of-type {\n",
       "        vertical-align: middle;\n",
       "    }\n",
       "\n",
       "    .dataframe tbody tr th {\n",
       "        vertical-align: top;\n",
       "    }\n",
       "\n",
       "    .dataframe thead th {\n",
       "        text-align: right;\n",
       "    }\n",
       "</style>\n",
       "<table border=\"1\" class=\"dataframe\">\n",
       "  <thead>\n",
       "    <tr style=\"text-align: right;\">\n",
       "      <th></th>\n",
       "      <th>land_size_sqm</th>\n",
       "      <th>house_size_sqm</th>\n",
       "      <th>no_of_rooms</th>\n",
       "      <th>no_of_bathrooms</th>\n",
       "      <th>large_living_room</th>\n",
       "      <th>parking_space</th>\n",
       "      <th>front_garden</th>\n",
       "      <th>swimming_pool</th>\n",
       "      <th>distance_to_school</th>\n",
       "      <th>wall_fence</th>\n",
       "      <th>house_age</th>\n",
       "      <th>water_front</th>\n",
       "      <th>distance_to_supermarket_km</th>\n",
       "      <th>crime_rate_index</th>\n",
       "      <th>room_size</th>\n",
       "      <th>property_value</th>\n",
       "    </tr>\n",
       "  </thead>\n",
       "  <tbody>\n",
       "    <tr>\n",
       "      <th>0</th>\n",
       "      <td>201</td>\n",
       "      <td>177</td>\n",
       "      <td>3</td>\n",
       "      <td>1</td>\n",
       "      <td>0</td>\n",
       "      <td>1</td>\n",
       "      <td>1</td>\n",
       "      <td>0</td>\n",
       "      <td>3.3</td>\n",
       "      <td>1</td>\n",
       "      <td>10</td>\n",
       "      <td>0</td>\n",
       "      <td>6.8</td>\n",
       "      <td>0.90</td>\n",
       "      <td>0</td>\n",
       "      <td>165432</td>\n",
       "    </tr>\n",
       "    <tr>\n",
       "      <th>1</th>\n",
       "      <td>196</td>\n",
       "      <td>182</td>\n",
       "      <td>4</td>\n",
       "      <td>3</td>\n",
       "      <td>1</td>\n",
       "      <td>1</td>\n",
       "      <td>0</td>\n",
       "      <td>1</td>\n",
       "      <td>1.2</td>\n",
       "      <td>1</td>\n",
       "      <td>11</td>\n",
       "      <td>0</td>\n",
       "      <td>4.1</td>\n",
       "      <td>1.42</td>\n",
       "      <td>1</td>\n",
       "      <td>187043</td>\n",
       "    </tr>\n",
       "    <tr>\n",
       "      <th>2</th>\n",
       "      <td>198</td>\n",
       "      <td>182</td>\n",
       "      <td>4</td>\n",
       "      <td>4</td>\n",
       "      <td>1</td>\n",
       "      <td>1</td>\n",
       "      <td>0</td>\n",
       "      <td>1</td>\n",
       "      <td>5.9</td>\n",
       "      <td>0</td>\n",
       "      <td>20</td>\n",
       "      <td>0</td>\n",
       "      <td>2.1</td>\n",
       "      <td>4.12</td>\n",
       "      <td>1</td>\n",
       "      <td>148658</td>\n",
       "    </tr>\n",
       "    <tr>\n",
       "      <th>3</th>\n",
       "      <td>178</td>\n",
       "      <td>166</td>\n",
       "      <td>2</td>\n",
       "      <td>3</td>\n",
       "      <td>0</td>\n",
       "      <td>1</td>\n",
       "      <td>0</td>\n",
       "      <td>0</td>\n",
       "      <td>5.9</td>\n",
       "      <td>0</td>\n",
       "      <td>5</td>\n",
       "      <td>0</td>\n",
       "      <td>0.7</td>\n",
       "      <td>4.36</td>\n",
       "      <td>0</td>\n",
       "      <td>123785</td>\n",
       "    </tr>\n",
       "    <tr>\n",
       "      <th>4</th>\n",
       "      <td>183</td>\n",
       "      <td>165</td>\n",
       "      <td>3</td>\n",
       "      <td>1</td>\n",
       "      <td>1</td>\n",
       "      <td>1</td>\n",
       "      <td>0</td>\n",
       "      <td>0</td>\n",
       "      <td>3.8</td>\n",
       "      <td>1</td>\n",
       "      <td>8</td>\n",
       "      <td>0</td>\n",
       "      <td>0.7</td>\n",
       "      <td>0.42</td>\n",
       "      <td>0</td>\n",
       "      <td>156470</td>\n",
       "    </tr>\n",
       "  </tbody>\n",
       "</table>\n",
       "</div>"
      ],
      "text/plain": [
       "   land_size_sqm  house_size_sqm  no_of_rooms  no_of_bathrooms  \\\n",
       "0            201             177            3                1   \n",
       "1            196             182            4                3   \n",
       "2            198             182            4                4   \n",
       "3            178             166            2                3   \n",
       "4            183             165            3                1   \n",
       "\n",
       "   large_living_room  parking_space  front_garden  swimming_pool  \\\n",
       "0                  0              1             1              0   \n",
       "1                  1              1             0              1   \n",
       "2                  1              1             0              1   \n",
       "3                  0              1             0              0   \n",
       "4                  1              1             0              0   \n",
       "\n",
       "   distance_to_school  wall_fence  house_age  water_front  \\\n",
       "0                 3.3           1         10            0   \n",
       "1                 1.2           1         11            0   \n",
       "2                 5.9           0         20            0   \n",
       "3                 5.9           0          5            0   \n",
       "4                 3.8           1          8            0   \n",
       "\n",
       "   distance_to_supermarket_km  crime_rate_index  room_size  property_value  \n",
       "0                         6.8              0.90          0          165432  \n",
       "1                         4.1              1.42          1          187043  \n",
       "2                         2.1              4.12          1          148658  \n",
       "3                         0.7              4.36          0          123785  \n",
       "4                         0.7              0.42          0          156470  "
      ]
     },
     "execution_count": 79,
     "metadata": {},
     "output_type": "execute_result"
    }
   ],
   "source": [
    "df.head()"
   ]
  },
  {
   "cell_type": "code",
   "execution_count": 80,
   "id": "informative-anderson",
   "metadata": {},
   "outputs": [],
   "source": [
    "y = df.pop('property_value')"
   ]
  },
  {
   "cell_type": "code",
   "execution_count": 81,
   "id": "sophisticated-diesel",
   "metadata": {},
   "outputs": [
    {
     "data": {
      "text/html": [
       "<div>\n",
       "<style scoped>\n",
       "    .dataframe tbody tr th:only-of-type {\n",
       "        vertical-align: middle;\n",
       "    }\n",
       "\n",
       "    .dataframe tbody tr th {\n",
       "        vertical-align: top;\n",
       "    }\n",
       "\n",
       "    .dataframe thead th {\n",
       "        text-align: right;\n",
       "    }\n",
       "</style>\n",
       "<table border=\"1\" class=\"dataframe\">\n",
       "  <thead>\n",
       "    <tr style=\"text-align: right;\">\n",
       "      <th></th>\n",
       "      <th>land_size_sqm</th>\n",
       "      <th>house_size_sqm</th>\n",
       "      <th>no_of_rooms</th>\n",
       "      <th>no_of_bathrooms</th>\n",
       "      <th>large_living_room</th>\n",
       "      <th>parking_space</th>\n",
       "      <th>front_garden</th>\n",
       "      <th>swimming_pool</th>\n",
       "      <th>distance_to_school</th>\n",
       "      <th>wall_fence</th>\n",
       "      <th>house_age</th>\n",
       "      <th>water_front</th>\n",
       "      <th>distance_to_supermarket_km</th>\n",
       "      <th>crime_rate_index</th>\n",
       "      <th>room_size</th>\n",
       "    </tr>\n",
       "  </thead>\n",
       "  <tbody>\n",
       "    <tr>\n",
       "      <th>0</th>\n",
       "      <td>201</td>\n",
       "      <td>177</td>\n",
       "      <td>3</td>\n",
       "      <td>1</td>\n",
       "      <td>0</td>\n",
       "      <td>1</td>\n",
       "      <td>1</td>\n",
       "      <td>0</td>\n",
       "      <td>3.3</td>\n",
       "      <td>1</td>\n",
       "      <td>10</td>\n",
       "      <td>0</td>\n",
       "      <td>6.8</td>\n",
       "      <td>0.90</td>\n",
       "      <td>0</td>\n",
       "    </tr>\n",
       "    <tr>\n",
       "      <th>1</th>\n",
       "      <td>196</td>\n",
       "      <td>182</td>\n",
       "      <td>4</td>\n",
       "      <td>3</td>\n",
       "      <td>1</td>\n",
       "      <td>1</td>\n",
       "      <td>0</td>\n",
       "      <td>1</td>\n",
       "      <td>1.2</td>\n",
       "      <td>1</td>\n",
       "      <td>11</td>\n",
       "      <td>0</td>\n",
       "      <td>4.1</td>\n",
       "      <td>1.42</td>\n",
       "      <td>1</td>\n",
       "    </tr>\n",
       "    <tr>\n",
       "      <th>2</th>\n",
       "      <td>198</td>\n",
       "      <td>182</td>\n",
       "      <td>4</td>\n",
       "      <td>4</td>\n",
       "      <td>1</td>\n",
       "      <td>1</td>\n",
       "      <td>0</td>\n",
       "      <td>1</td>\n",
       "      <td>5.9</td>\n",
       "      <td>0</td>\n",
       "      <td>20</td>\n",
       "      <td>0</td>\n",
       "      <td>2.1</td>\n",
       "      <td>4.12</td>\n",
       "      <td>1</td>\n",
       "    </tr>\n",
       "    <tr>\n",
       "      <th>3</th>\n",
       "      <td>178</td>\n",
       "      <td>166</td>\n",
       "      <td>2</td>\n",
       "      <td>3</td>\n",
       "      <td>0</td>\n",
       "      <td>1</td>\n",
       "      <td>0</td>\n",
       "      <td>0</td>\n",
       "      <td>5.9</td>\n",
       "      <td>0</td>\n",
       "      <td>5</td>\n",
       "      <td>0</td>\n",
       "      <td>0.7</td>\n",
       "      <td>4.36</td>\n",
       "      <td>0</td>\n",
       "    </tr>\n",
       "    <tr>\n",
       "      <th>4</th>\n",
       "      <td>183</td>\n",
       "      <td>165</td>\n",
       "      <td>3</td>\n",
       "      <td>1</td>\n",
       "      <td>1</td>\n",
       "      <td>1</td>\n",
       "      <td>0</td>\n",
       "      <td>0</td>\n",
       "      <td>3.8</td>\n",
       "      <td>1</td>\n",
       "      <td>8</td>\n",
       "      <td>0</td>\n",
       "      <td>0.7</td>\n",
       "      <td>0.42</td>\n",
       "      <td>0</td>\n",
       "    </tr>\n",
       "    <tr>\n",
       "      <th>...</th>\n",
       "      <td>...</td>\n",
       "      <td>...</td>\n",
       "      <td>...</td>\n",
       "      <td>...</td>\n",
       "      <td>...</td>\n",
       "      <td>...</td>\n",
       "      <td>...</td>\n",
       "      <td>...</td>\n",
       "      <td>...</td>\n",
       "      <td>...</td>\n",
       "      <td>...</td>\n",
       "      <td>...</td>\n",
       "      <td>...</td>\n",
       "      <td>...</td>\n",
       "      <td>...</td>\n",
       "    </tr>\n",
       "    <tr>\n",
       "      <th>4949</th>\n",
       "      <td>297</td>\n",
       "      <td>261</td>\n",
       "      <td>4</td>\n",
       "      <td>4</td>\n",
       "      <td>1</td>\n",
       "      <td>1</td>\n",
       "      <td>1</td>\n",
       "      <td>1</td>\n",
       "      <td>2.9</td>\n",
       "      <td>1</td>\n",
       "      <td>20</td>\n",
       "      <td>0</td>\n",
       "      <td>4.1</td>\n",
       "      <td>3.99</td>\n",
       "      <td>2</td>\n",
       "    </tr>\n",
       "    <tr>\n",
       "      <th>4950</th>\n",
       "      <td>302</td>\n",
       "      <td>282</td>\n",
       "      <td>4</td>\n",
       "      <td>2</td>\n",
       "      <td>1</td>\n",
       "      <td>1</td>\n",
       "      <td>1</td>\n",
       "      <td>1</td>\n",
       "      <td>3.8</td>\n",
       "      <td>1</td>\n",
       "      <td>12</td>\n",
       "      <td>1</td>\n",
       "      <td>4.8</td>\n",
       "      <td>2.09</td>\n",
       "      <td>2</td>\n",
       "    </tr>\n",
       "    <tr>\n",
       "      <th>4951</th>\n",
       "      <td>153</td>\n",
       "      <td>147</td>\n",
       "      <td>3</td>\n",
       "      <td>4</td>\n",
       "      <td>1</td>\n",
       "      <td>1</td>\n",
       "      <td>0</td>\n",
       "      <td>0</td>\n",
       "      <td>3.3</td>\n",
       "      <td>1</td>\n",
       "      <td>7</td>\n",
       "      <td>0</td>\n",
       "      <td>4.7</td>\n",
       "      <td>3.98</td>\n",
       "      <td>3</td>\n",
       "    </tr>\n",
       "    <tr>\n",
       "      <th>4952</th>\n",
       "      <td>180</td>\n",
       "      <td>158</td>\n",
       "      <td>2</td>\n",
       "      <td>1</td>\n",
       "      <td>0</td>\n",
       "      <td>1</td>\n",
       "      <td>0</td>\n",
       "      <td>1</td>\n",
       "      <td>2.2</td>\n",
       "      <td>0</td>\n",
       "      <td>1</td>\n",
       "      <td>0</td>\n",
       "      <td>3.4</td>\n",
       "      <td>3.75</td>\n",
       "      <td>2</td>\n",
       "    </tr>\n",
       "    <tr>\n",
       "      <th>4953</th>\n",
       "      <td>695</td>\n",
       "      <td>619</td>\n",
       "      <td>8</td>\n",
       "      <td>6</td>\n",
       "      <td>1</td>\n",
       "      <td>1</td>\n",
       "      <td>1</td>\n",
       "      <td>1</td>\n",
       "      <td>0.4</td>\n",
       "      <td>1</td>\n",
       "      <td>5</td>\n",
       "      <td>0</td>\n",
       "      <td>0.4</td>\n",
       "      <td>4.64</td>\n",
       "      <td>2</td>\n",
       "    </tr>\n",
       "  </tbody>\n",
       "</table>\n",
       "<p>4954 rows × 15 columns</p>\n",
       "</div>"
      ],
      "text/plain": [
       "      land_size_sqm  house_size_sqm  no_of_rooms  no_of_bathrooms  \\\n",
       "0               201             177            3                1   \n",
       "1               196             182            4                3   \n",
       "2               198             182            4                4   \n",
       "3               178             166            2                3   \n",
       "4               183             165            3                1   \n",
       "...             ...             ...          ...              ...   \n",
       "4949            297             261            4                4   \n",
       "4950            302             282            4                2   \n",
       "4951            153             147            3                4   \n",
       "4952            180             158            2                1   \n",
       "4953            695             619            8                6   \n",
       "\n",
       "      large_living_room  parking_space  front_garden  swimming_pool  \\\n",
       "0                     0              1             1              0   \n",
       "1                     1              1             0              1   \n",
       "2                     1              1             0              1   \n",
       "3                     0              1             0              0   \n",
       "4                     1              1             0              0   \n",
       "...                 ...            ...           ...            ...   \n",
       "4949                  1              1             1              1   \n",
       "4950                  1              1             1              1   \n",
       "4951                  1              1             0              0   \n",
       "4952                  0              1             0              1   \n",
       "4953                  1              1             1              1   \n",
       "\n",
       "      distance_to_school  wall_fence  house_age  water_front  \\\n",
       "0                    3.3           1         10            0   \n",
       "1                    1.2           1         11            0   \n",
       "2                    5.9           0         20            0   \n",
       "3                    5.9           0          5            0   \n",
       "4                    3.8           1          8            0   \n",
       "...                  ...         ...        ...          ...   \n",
       "4949                 2.9           1         20            0   \n",
       "4950                 3.8           1         12            1   \n",
       "4951                 3.3           1          7            0   \n",
       "4952                 2.2           0          1            0   \n",
       "4953                 0.4           1          5            0   \n",
       "\n",
       "      distance_to_supermarket_km  crime_rate_index  room_size  \n",
       "0                            6.8              0.90          0  \n",
       "1                            4.1              1.42          1  \n",
       "2                            2.1              4.12          1  \n",
       "3                            0.7              4.36          0  \n",
       "4                            0.7              0.42          0  \n",
       "...                          ...               ...        ...  \n",
       "4949                         4.1              3.99          2  \n",
       "4950                         4.8              2.09          2  \n",
       "4951                         4.7              3.98          3  \n",
       "4952                         3.4              3.75          2  \n",
       "4953                         0.4              4.64          2  \n",
       "\n",
       "[4954 rows x 15 columns]"
      ]
     },
     "execution_count": 81,
     "metadata": {},
     "output_type": "execute_result"
    }
   ],
   "source": [
    "df"
   ]
  },
  {
   "cell_type": "code",
   "execution_count": 82,
   "id": "continental-windows",
   "metadata": {},
   "outputs": [],
   "source": [
    "X = df.values"
   ]
  },
  {
   "cell_type": "code",
   "execution_count": 87,
   "id": "parental-writer",
   "metadata": {},
   "outputs": [],
   "source": [
    "param_distributions = {'n_estimators':randint(1,5),\n",
    "                         'max_depth':randint(5,10)}"
   ]
  },
  {
   "cell_type": "code",
   "execution_count": 88,
   "id": "embedded-running",
   "metadata": {},
   "outputs": [],
   "source": [
    "search = RandomizedSearchCV(estimator = RandomForestRegressor(random_state = 0),\n",
    "                           n_iter = 5,\n",
    "                           param_distributions = param_distributions,\n",
    "                           random_state = 0\n",
    "                           )"
   ]
  },
  {
   "cell_type": "code",
   "execution_count": 89,
   "id": "experimental-concert",
   "metadata": {},
   "outputs": [
    {
     "data": {
      "text/plain": [
       "RandomizedSearchCV(estimator=RandomForestRegressor(random_state=0), n_iter=5,\n",
       "                   param_distributions={'max_depth': <scipy.stats._distn_infrastructure.rv_frozen object at 0x000001DE16773670>,\n",
       "                                        'n_estimators': <scipy.stats._distn_infrastructure.rv_frozen object at 0x000001DE166B57C0>},\n",
       "                   random_state=0)"
      ]
     },
     "execution_count": 89,
     "metadata": {},
     "output_type": "execute_result"
    }
   ],
   "source": [
    "search.fit(X_train,y_train)"
   ]
  },
  {
   "cell_type": "code",
   "execution_count": 90,
   "id": "static-episode",
   "metadata": {},
   "outputs": [
    {
     "data": {
      "text/plain": [
       "{'max_depth': 7, 'n_estimators': 1}"
      ]
     },
     "execution_count": 90,
     "metadata": {},
     "output_type": "execute_result"
    }
   ],
   "source": [
    "search.best_params_"
   ]
  },
  {
   "cell_type": "code",
   "execution_count": 91,
   "id": "thirty-temple",
   "metadata": {},
   "outputs": [
    {
     "data": {
      "text/plain": [
       "0.9031563845050216"
      ]
     },
     "execution_count": 91,
     "metadata": {},
     "output_type": "execute_result"
    }
   ],
   "source": [
    "search.score(X_test,y_test)"
   ]
  },
  {
   "cell_type": "code",
   "execution_count": 92,
   "id": "suited-regression",
   "metadata": {},
   "outputs": [
    {
     "data": {
      "text/plain": [
       "0.9855052457205964"
      ]
     },
     "execution_count": 92,
     "metadata": {},
     "output_type": "execute_result"
    }
   ],
   "source": [
    "search.score(X_train,y_train)"
   ]
  },
  {
   "cell_type": "markdown",
   "id": "becoming-standing",
   "metadata": {},
   "source": [
    "## bagging classfier"
   ]
  },
  {
   "cell_type": "code",
   "execution_count": 96,
   "id": "heated-issue",
   "metadata": {},
   "outputs": [],
   "source": [
    "from sklearn.datasets import make_classification\n",
    "from sklearn.svm import SVC\n",
    "from sklearn.ensemble import BaggingClassifier"
   ]
  },
  {
   "cell_type": "code",
   "execution_count": 103,
   "id": "funded-jungle",
   "metadata": {},
   "outputs": [],
   "source": [
    "X, y = make_classification(n_samples=100, n_features=4,n_informative=2, n_redundant=0,random_state=0, shuffle=False)"
   ]
  },
  {
   "cell_type": "code",
   "execution_count": 106,
   "id": "special-genius",
   "metadata": {},
   "outputs": [
    {
     "data": {
      "text/plain": [
       "BaggingClassifier(base_estimator=SVC(), random_state=0)"
      ]
     },
     "execution_count": 106,
     "metadata": {},
     "output_type": "execute_result"
    }
   ],
   "source": [
    "clf = BaggingClassifier(base_estimator = SVC(),n_estimators = 10,random_state = 0)\n",
    "clf.fit(X,y)"
   ]
  },
  {
   "cell_type": "code",
   "execution_count": 111,
   "id": "integral-heating",
   "metadata": {},
   "outputs": [
    {
     "data": {
      "text/plain": [
       "array([1])"
      ]
     },
     "execution_count": 111,
     "metadata": {},
     "output_type": "execute_result"
    }
   ],
   "source": [
    "clf.predict([[30, 20, 90, 1100]])"
   ]
  },
  {
   "cell_type": "code",
   "execution_count": null,
   "id": "continued-tactics",
   "metadata": {},
   "outputs": [],
   "source": []
  }
 ],
 "metadata": {
  "kernelspec": {
   "display_name": "Python 3",
   "language": "python",
   "name": "python3"
  },
  "language_info": {
   "codemirror_mode": {
    "name": "ipython",
    "version": 3
   },
   "file_extension": ".py",
   "mimetype": "text/x-python",
   "name": "python",
   "nbconvert_exporter": "python",
   "pygments_lexer": "ipython3",
   "version": "3.8.5"
  }
 },
 "nbformat": 4,
 "nbformat_minor": 5
}
